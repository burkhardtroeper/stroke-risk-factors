{
 "cells": [
  {
   "cell_type": "markdown",
   "metadata": {},
   "source": [
    "# Stroke Risk\n",
    "\n",
    "## Analysis of and stroke-risk calculation with patient data, including hypertension, heart-disease, glucose-level"
   ]
  },
  {
   "cell_type": "markdown",
   "metadata": {},
   "source": [
    "## Disease understanding\n",
    "\n",
    "Stroke is one of the cardiovascular diseases that cause about half of all deaths in the western world. When a stroke occurs, quick action is important. In an emergency, every minute counts.\n",
    "There are several factors that can cause a stroke, including high blood pressure and high blood sugar levels.\n",
    "In my work as a medical journalist, I have written about them time and again. Here I want to prove with data that stroke factors actually increase the risk."
   ]
  },
  {
   "cell_type": "markdown",
   "metadata": {},
   "source": [
    "## Analytic Approach\n",
    "\n",
    "Visualization alone should make it possible to identify correlations. Furthermore, models should be created to determine the risk of a stroke. I start with simple linear regressions and end with neural networks. The latter might be too much effort. But it costs nothing, so to speak.\n",
    "\n",
    "All analysis falls under the supervised learning category."
   ]
  },
  {
   "cell_type": "markdown",
   "metadata": {},
   "source": [
    "## Data requirements\n",
    "\n",
    "I've got a dataset in csv-format of unknown source. As this is just a demo, it seems okay to use it. The data looks very clean, no data cleaning is necessary. For machine learning models, some adjustments need to be done (conversions, etc.)"
   ]
  },
  {
   "cell_type": "code",
   "execution_count": 1,
   "metadata": {},
   "outputs": [],
   "source": [
    "import pandas as pd\n",
    "import numpy as np\n",
    "import matplotlib.pyplot as plt\n",
    "import seaborn as sns"
   ]
  },
  {
   "cell_type": "code",
   "execution_count": 2,
   "metadata": {},
   "outputs": [],
   "source": [
    "stroke = pd.read_csv('stroke_data.csv')"
   ]
  },
  {
   "cell_type": "code",
   "execution_count": null,
   "metadata": {},
   "outputs": [],
   "source": []
  },
  {
   "cell_type": "markdown",
   "metadata": {},
   "source": [
    "## Data exploration"
   ]
  },
  {
   "cell_type": "code",
   "execution_count": 3,
   "metadata": {},
   "outputs": [
    {
     "data": {
      "text/html": [
       "<div>\n",
       "<style scoped>\n",
       "    .dataframe tbody tr th:only-of-type {\n",
       "        vertical-align: middle;\n",
       "    }\n",
       "\n",
       "    .dataframe tbody tr th {\n",
       "        vertical-align: top;\n",
       "    }\n",
       "\n",
       "    .dataframe thead th {\n",
       "        text-align: right;\n",
       "    }\n",
       "</style>\n",
       "<table border=\"1\" class=\"dataframe\">\n",
       "  <thead>\n",
       "    <tr style=\"text-align: right;\">\n",
       "      <th></th>\n",
       "      <th>gender</th>\n",
       "      <th>age</th>\n",
       "      <th>hypertension</th>\n",
       "      <th>heart_disease</th>\n",
       "      <th>ever_married</th>\n",
       "      <th>work_type</th>\n",
       "      <th>Residence_type</th>\n",
       "      <th>avg_glucose_level</th>\n",
       "      <th>bmi</th>\n",
       "      <th>smoking_status</th>\n",
       "      <th>stroke</th>\n",
       "    </tr>\n",
       "  </thead>\n",
       "  <tbody>\n",
       "    <tr>\n",
       "      <th>0</th>\n",
       "      <td>Male</td>\n",
       "      <td>58.0</td>\n",
       "      <td>1</td>\n",
       "      <td>0</td>\n",
       "      <td>Yes</td>\n",
       "      <td>Private</td>\n",
       "      <td>Urban</td>\n",
       "      <td>87.96</td>\n",
       "      <td>39.2</td>\n",
       "      <td>never smoked</td>\n",
       "      <td>0</td>\n",
       "    </tr>\n",
       "    <tr>\n",
       "      <th>1</th>\n",
       "      <td>Female</td>\n",
       "      <td>70.0</td>\n",
       "      <td>0</td>\n",
       "      <td>0</td>\n",
       "      <td>Yes</td>\n",
       "      <td>Private</td>\n",
       "      <td>Rural</td>\n",
       "      <td>69.04</td>\n",
       "      <td>35.9</td>\n",
       "      <td>formerly smoked</td>\n",
       "      <td>0</td>\n",
       "    </tr>\n",
       "    <tr>\n",
       "      <th>2</th>\n",
       "      <td>Female</td>\n",
       "      <td>52.0</td>\n",
       "      <td>0</td>\n",
       "      <td>0</td>\n",
       "      <td>Yes</td>\n",
       "      <td>Private</td>\n",
       "      <td>Urban</td>\n",
       "      <td>77.59</td>\n",
       "      <td>17.7</td>\n",
       "      <td>formerly smoked</td>\n",
       "      <td>0</td>\n",
       "    </tr>\n",
       "    <tr>\n",
       "      <th>3</th>\n",
       "      <td>Female</td>\n",
       "      <td>75.0</td>\n",
       "      <td>0</td>\n",
       "      <td>1</td>\n",
       "      <td>Yes</td>\n",
       "      <td>Self-employed</td>\n",
       "      <td>Rural</td>\n",
       "      <td>243.53</td>\n",
       "      <td>27.0</td>\n",
       "      <td>never smoked</td>\n",
       "      <td>0</td>\n",
       "    </tr>\n",
       "    <tr>\n",
       "      <th>4</th>\n",
       "      <td>Female</td>\n",
       "      <td>32.0</td>\n",
       "      <td>0</td>\n",
       "      <td>0</td>\n",
       "      <td>Yes</td>\n",
       "      <td>Private</td>\n",
       "      <td>Rural</td>\n",
       "      <td>77.67</td>\n",
       "      <td>32.3</td>\n",
       "      <td>smokes</td>\n",
       "      <td>0</td>\n",
       "    </tr>\n",
       "    <tr>\n",
       "      <th>5</th>\n",
       "      <td>Female</td>\n",
       "      <td>74.0</td>\n",
       "      <td>1</td>\n",
       "      <td>0</td>\n",
       "      <td>Yes</td>\n",
       "      <td>Self-employed</td>\n",
       "      <td>Urban</td>\n",
       "      <td>205.84</td>\n",
       "      <td>54.6</td>\n",
       "      <td>never smoked</td>\n",
       "      <td>0</td>\n",
       "    </tr>\n",
       "    <tr>\n",
       "      <th>6</th>\n",
       "      <td>Male</td>\n",
       "      <td>79.0</td>\n",
       "      <td>0</td>\n",
       "      <td>1</td>\n",
       "      <td>Yes</td>\n",
       "      <td>Private</td>\n",
       "      <td>Urban</td>\n",
       "      <td>57.08</td>\n",
       "      <td>22.0</td>\n",
       "      <td>formerly smoked</td>\n",
       "      <td>0</td>\n",
       "    </tr>\n",
       "    <tr>\n",
       "      <th>7</th>\n",
       "      <td>Female</td>\n",
       "      <td>37.0</td>\n",
       "      <td>0</td>\n",
       "      <td>0</td>\n",
       "      <td>Yes</td>\n",
       "      <td>Private</td>\n",
       "      <td>Rural</td>\n",
       "      <td>162.96</td>\n",
       "      <td>39.4</td>\n",
       "      <td>never smoked</td>\n",
       "      <td>0</td>\n",
       "    </tr>\n",
       "    <tr>\n",
       "      <th>8</th>\n",
       "      <td>Female</td>\n",
       "      <td>37.0</td>\n",
       "      <td>0</td>\n",
       "      <td>0</td>\n",
       "      <td>Yes</td>\n",
       "      <td>Private</td>\n",
       "      <td>Rural</td>\n",
       "      <td>73.50</td>\n",
       "      <td>26.1</td>\n",
       "      <td>formerly smoked</td>\n",
       "      <td>0</td>\n",
       "    </tr>\n",
       "    <tr>\n",
       "      <th>9</th>\n",
       "      <td>Female</td>\n",
       "      <td>40.0</td>\n",
       "      <td>0</td>\n",
       "      <td>0</td>\n",
       "      <td>Yes</td>\n",
       "      <td>Private</td>\n",
       "      <td>Rural</td>\n",
       "      <td>95.04</td>\n",
       "      <td>42.4</td>\n",
       "      <td>never smoked</td>\n",
       "      <td>0</td>\n",
       "    </tr>\n",
       "  </tbody>\n",
       "</table>\n",
       "</div>"
      ],
      "text/plain": [
       "   gender   age  hypertension  heart_disease ever_married      work_type  \\\n",
       "0    Male  58.0             1              0          Yes        Private   \n",
       "1  Female  70.0             0              0          Yes        Private   \n",
       "2  Female  52.0             0              0          Yes        Private   \n",
       "3  Female  75.0             0              1          Yes  Self-employed   \n",
       "4  Female  32.0             0              0          Yes        Private   \n",
       "5  Female  74.0             1              0          Yes  Self-employed   \n",
       "6    Male  79.0             0              1          Yes        Private   \n",
       "7  Female  37.0             0              0          Yes        Private   \n",
       "8  Female  37.0             0              0          Yes        Private   \n",
       "9  Female  40.0             0              0          Yes        Private   \n",
       "\n",
       "  Residence_type  avg_glucose_level   bmi   smoking_status  stroke  \n",
       "0          Urban              87.96  39.2     never smoked       0  \n",
       "1          Rural              69.04  35.9  formerly smoked       0  \n",
       "2          Urban              77.59  17.7  formerly smoked       0  \n",
       "3          Rural             243.53  27.0     never smoked       0  \n",
       "4          Rural              77.67  32.3           smokes       0  \n",
       "5          Urban             205.84  54.6     never smoked       0  \n",
       "6          Urban              57.08  22.0  formerly smoked       0  \n",
       "7          Rural             162.96  39.4     never smoked       0  \n",
       "8          Rural              73.50  26.1  formerly smoked       0  \n",
       "9          Rural              95.04  42.4     never smoked       0  "
      ]
     },
     "execution_count": 3,
     "metadata": {},
     "output_type": "execute_result"
    }
   ],
   "source": [
    "stroke.head(10)"
   ]
  },
  {
   "cell_type": "code",
   "execution_count": 4,
   "metadata": {},
   "outputs": [
    {
     "name": "stdout",
     "output_type": "stream",
     "text": [
      "<class 'pandas.core.frame.DataFrame'>\n",
      "RangeIndex: 29065 entries, 0 to 29064\n",
      "Data columns (total 11 columns):\n",
      " #   Column             Non-Null Count  Dtype  \n",
      "---  ------             --------------  -----  \n",
      " 0   gender             29065 non-null  object \n",
      " 1   age                29065 non-null  float64\n",
      " 2   hypertension       29065 non-null  int64  \n",
      " 3   heart_disease      29065 non-null  int64  \n",
      " 4   ever_married       29065 non-null  object \n",
      " 5   work_type          29065 non-null  object \n",
      " 6   Residence_type     29065 non-null  object \n",
      " 7   avg_glucose_level  29065 non-null  float64\n",
      " 8   bmi                29065 non-null  float64\n",
      " 9   smoking_status     29065 non-null  object \n",
      " 10  stroke             29065 non-null  int64  \n",
      "dtypes: float64(3), int64(3), object(5)\n",
      "memory usage: 2.4+ MB\n"
     ]
    }
   ],
   "source": [
    "stroke.info()"
   ]
  },
  {
   "cell_type": "markdown",
   "metadata": {},
   "source": [
    "... no missing data, data types seem to be good."
   ]
  },
  {
   "cell_type": "markdown",
   "metadata": {},
   "source": [
    "### Feature description\n",
    "\n",
    "id: patient id\n",
    "Not relevant for this analysis\n",
    "\n",
    "gender: gender of patient\n",
    "Relevant, as there are differences between male and female in the course of stroke \n",
    "\n",
    "age: age of patient\n",
    "Relevant, as age is a major risk factor\n",
    "\n",
    "hypertension: 0 = no hypertension, 1 = suffering from hypertension\n",
    "Relevant, as hypertension is a major risk factor. Allthough differentiated values would be preferable, as a mild hypertension affects the risk less than significant elevated values\n",
    "\n",
    "heart_disease: 0 = no heart disease, 1 = suffering from heart disease\n",
    "Relevant, as heart diseases are a major risk. Also here differentation would be preferable. There are several forms of heart disease\n",
    "\n",
    "ever_married: yes/no\n",
    "Relevant, as there are observartions, that married people have a lower risk of stroke/heart diseases\n",
    "\n",
    "work_type: type of occupation\n",
    "Relevant, as different types of occupation come along with higher/lower stress levels. Stress is a risk factor\n",
    "\n",
    "Residence_type: area type of residence (rural, urban)\n",
    "Maybe relevant, data will show\n",
    "\n",
    "avg_glucose_level: average glucose level (measured after meal)\n",
    "Relevant, as this is a measure of diabetes yes/no, which is a major risk\n",
    "\n",
    "bmi: body mass index\n",
    "Relevant, as the bmi is a index for overweight, a major risk factor\n",
    "\n",
    "smoking_status: patient's smoking status\n",
    "Relevant, as smokers have a higher risk"
   ]
  },
  {
   "cell_type": "code",
   "execution_count": 5,
   "metadata": {},
   "outputs": [
    {
     "data": {
      "text/html": [
       "<div>\n",
       "<style scoped>\n",
       "    .dataframe tbody tr th:only-of-type {\n",
       "        vertical-align: middle;\n",
       "    }\n",
       "\n",
       "    .dataframe tbody tr th {\n",
       "        vertical-align: top;\n",
       "    }\n",
       "\n",
       "    .dataframe thead th {\n",
       "        text-align: right;\n",
       "    }\n",
       "</style>\n",
       "<table border=\"1\" class=\"dataframe\">\n",
       "  <thead>\n",
       "    <tr style=\"text-align: right;\">\n",
       "      <th></th>\n",
       "      <th>count</th>\n",
       "      <th>mean</th>\n",
       "      <th>std</th>\n",
       "      <th>min</th>\n",
       "      <th>25%</th>\n",
       "      <th>50%</th>\n",
       "      <th>75%</th>\n",
       "      <th>max</th>\n",
       "    </tr>\n",
       "  </thead>\n",
       "  <tbody>\n",
       "    <tr>\n",
       "      <th>age</th>\n",
       "      <td>29065.0</td>\n",
       "      <td>47.676174</td>\n",
       "      <td>18.732941</td>\n",
       "      <td>10.00</td>\n",
       "      <td>32.00</td>\n",
       "      <td>48.00</td>\n",
       "      <td>62.00</td>\n",
       "      <td>82.00</td>\n",
       "    </tr>\n",
       "    <tr>\n",
       "      <th>hypertension</th>\n",
       "      <td>29065.0</td>\n",
       "      <td>0.111509</td>\n",
       "      <td>0.314766</td>\n",
       "      <td>0.00</td>\n",
       "      <td>0.00</td>\n",
       "      <td>0.00</td>\n",
       "      <td>0.00</td>\n",
       "      <td>1.00</td>\n",
       "    </tr>\n",
       "    <tr>\n",
       "      <th>heart_disease</th>\n",
       "      <td>29065.0</td>\n",
       "      <td>0.052159</td>\n",
       "      <td>0.222351</td>\n",
       "      <td>0.00</td>\n",
       "      <td>0.00</td>\n",
       "      <td>0.00</td>\n",
       "      <td>0.00</td>\n",
       "      <td>1.00</td>\n",
       "    </tr>\n",
       "    <tr>\n",
       "      <th>avg_glucose_level</th>\n",
       "      <td>29065.0</td>\n",
       "      <td>106.405639</td>\n",
       "      <td>45.272453</td>\n",
       "      <td>55.01</td>\n",
       "      <td>77.63</td>\n",
       "      <td>92.13</td>\n",
       "      <td>113.91</td>\n",
       "      <td>291.05</td>\n",
       "    </tr>\n",
       "    <tr>\n",
       "      <th>bmi</th>\n",
       "      <td>29065.0</td>\n",
       "      <td>30.054684</td>\n",
       "      <td>7.193951</td>\n",
       "      <td>10.10</td>\n",
       "      <td>25.00</td>\n",
       "      <td>28.90</td>\n",
       "      <td>33.90</td>\n",
       "      <td>92.00</td>\n",
       "    </tr>\n",
       "    <tr>\n",
       "      <th>stroke</th>\n",
       "      <td>29065.0</td>\n",
       "      <td>0.018854</td>\n",
       "      <td>0.136013</td>\n",
       "      <td>0.00</td>\n",
       "      <td>0.00</td>\n",
       "      <td>0.00</td>\n",
       "      <td>0.00</td>\n",
       "      <td>1.00</td>\n",
       "    </tr>\n",
       "  </tbody>\n",
       "</table>\n",
       "</div>"
      ],
      "text/plain": [
       "                     count        mean        std    min    25%    50%  \\\n",
       "age                29065.0   47.676174  18.732941  10.00  32.00  48.00   \n",
       "hypertension       29065.0    0.111509   0.314766   0.00   0.00   0.00   \n",
       "heart_disease      29065.0    0.052159   0.222351   0.00   0.00   0.00   \n",
       "avg_glucose_level  29065.0  106.405639  45.272453  55.01  77.63  92.13   \n",
       "bmi                29065.0   30.054684   7.193951  10.10  25.00  28.90   \n",
       "stroke             29065.0    0.018854   0.136013   0.00   0.00   0.00   \n",
       "\n",
       "                      75%     max  \n",
       "age                 62.00   82.00  \n",
       "hypertension         0.00    1.00  \n",
       "heart_disease        0.00    1.00  \n",
       "avg_glucose_level  113.91  291.05  \n",
       "bmi                 33.90   92.00  \n",
       "stroke               0.00    1.00  "
      ]
     },
     "execution_count": 5,
     "metadata": {},
     "output_type": "execute_result"
    }
   ],
   "source": [
    "stroke.describe().transpose()"
   ]
  },
  {
   "cell_type": "code",
   "execution_count": null,
   "metadata": {},
   "outputs": [],
   "source": []
  },
  {
   "cell_type": "markdown",
   "metadata": {},
   "source": [
    "There are several possibilities to examine the data in more detail with the aim of confirming known statements from medicine. Let's do it.\n",
    "\n",
    "First group data into age-bins, create a new df from it and count them."
   ]
  },
  {
   "cell_type": "code",
   "execution_count": 6,
   "metadata": {},
   "outputs": [],
   "source": [
    "bins = np.linspace(min(stroke['age']), max(stroke['age']), 10)\n",
    "stroke['age_bin'] = pd.cut(stroke['age'], bins, include_lowest=True)"
   ]
  },
  {
   "cell_type": "code",
   "execution_count": 7,
   "metadata": {},
   "outputs": [],
   "source": [
    "age_bins_list = stroke.groupby(['age_bin'])['age'].count()"
   ]
  },
  {
   "cell_type": "code",
   "execution_count": 8,
   "metadata": {},
   "outputs": [],
   "source": [
    "age_bin_df = pd.DataFrame(age_bins_list)"
   ]
  },
  {
   "cell_type": "code",
   "execution_count": 9,
   "metadata": {},
   "outputs": [
    {
     "data": {
      "text/html": [
       "<div>\n",
       "<style scoped>\n",
       "    .dataframe tbody tr th:only-of-type {\n",
       "        vertical-align: middle;\n",
       "    }\n",
       "\n",
       "    .dataframe tbody tr th {\n",
       "        vertical-align: top;\n",
       "    }\n",
       "\n",
       "    .dataframe thead th {\n",
       "        text-align: right;\n",
       "    }\n",
       "</style>\n",
       "<table border=\"1\" class=\"dataframe\">\n",
       "  <thead>\n",
       "    <tr style=\"text-align: right;\">\n",
       "      <th></th>\n",
       "      <th>age</th>\n",
       "    </tr>\n",
       "    <tr>\n",
       "      <th>age_bin</th>\n",
       "      <th></th>\n",
       "    </tr>\n",
       "  </thead>\n",
       "  <tbody>\n",
       "    <tr>\n",
       "      <th>(9.999, 18.0]</th>\n",
       "      <td>1693</td>\n",
       "    </tr>\n",
       "    <tr>\n",
       "      <th>(18.0, 26.0]</th>\n",
       "      <td>3061</td>\n",
       "    </tr>\n",
       "    <tr>\n",
       "      <th>(26.0, 34.0]</th>\n",
       "      <td>3401</td>\n",
       "    </tr>\n",
       "    <tr>\n",
       "      <th>(34.0, 42.0]</th>\n",
       "      <td>3500</td>\n",
       "    </tr>\n",
       "    <tr>\n",
       "      <th>(42.0, 50.0]</th>\n",
       "      <td>4139</td>\n",
       "    </tr>\n",
       "    <tr>\n",
       "      <th>(50.0, 58.0]</th>\n",
       "      <td>4284</td>\n",
       "    </tr>\n",
       "    <tr>\n",
       "      <th>(58.0, 66.0]</th>\n",
       "      <td>3634</td>\n",
       "    </tr>\n",
       "    <tr>\n",
       "      <th>(66.0, 74.0]</th>\n",
       "      <td>2492</td>\n",
       "    </tr>\n",
       "    <tr>\n",
       "      <th>(74.0, 82.0]</th>\n",
       "      <td>2861</td>\n",
       "    </tr>\n",
       "  </tbody>\n",
       "</table>\n",
       "</div>"
      ],
      "text/plain": [
       "                age\n",
       "age_bin            \n",
       "(9.999, 18.0]  1693\n",
       "(18.0, 26.0]   3061\n",
       "(26.0, 34.0]   3401\n",
       "(34.0, 42.0]   3500\n",
       "(42.0, 50.0]   4139\n",
       "(50.0, 58.0]   4284\n",
       "(58.0, 66.0]   3634\n",
       "(66.0, 74.0]   2492\n",
       "(74.0, 82.0]   2861"
      ]
     },
     "execution_count": 9,
     "metadata": {},
     "output_type": "execute_result"
    }
   ],
   "source": [
    "age_bin_df"
   ]
  },
  {
   "cell_type": "code",
   "execution_count": 10,
   "metadata": {},
   "outputs": [],
   "source": [
    "age_bin_df.rename(columns = {'age': 'Counts'}, inplace=True)"
   ]
  },
  {
   "cell_type": "code",
   "execution_count": null,
   "metadata": {},
   "outputs": [],
   "source": []
  },
  {
   "cell_type": "markdown",
   "metadata": {},
   "source": [
    "1. Hypertension affects more often older people"
   ]
  },
  {
   "cell_type": "code",
   "execution_count": 11,
   "metadata": {},
   "outputs": [],
   "source": [
    "age_bin_df['Hypertension'] = stroke.groupby(['age_bin'])['hypertension'].sum()"
   ]
  },
  {
   "cell_type": "code",
   "execution_count": 12,
   "metadata": {},
   "outputs": [
    {
     "data": {
      "text/html": [
       "<div>\n",
       "<style scoped>\n",
       "    .dataframe tbody tr th:only-of-type {\n",
       "        vertical-align: middle;\n",
       "    }\n",
       "\n",
       "    .dataframe tbody tr th {\n",
       "        vertical-align: top;\n",
       "    }\n",
       "\n",
       "    .dataframe thead th {\n",
       "        text-align: right;\n",
       "    }\n",
       "</style>\n",
       "<table border=\"1\" class=\"dataframe\">\n",
       "  <thead>\n",
       "    <tr style=\"text-align: right;\">\n",
       "      <th></th>\n",
       "      <th>Counts</th>\n",
       "      <th>Hypertension</th>\n",
       "    </tr>\n",
       "    <tr>\n",
       "      <th>age_bin</th>\n",
       "      <th></th>\n",
       "      <th></th>\n",
       "    </tr>\n",
       "  </thead>\n",
       "  <tbody>\n",
       "    <tr>\n",
       "      <th>(9.999, 18.0]</th>\n",
       "      <td>1693</td>\n",
       "      <td>3</td>\n",
       "    </tr>\n",
       "    <tr>\n",
       "      <th>(18.0, 26.0]</th>\n",
       "      <td>3061</td>\n",
       "      <td>21</td>\n",
       "    </tr>\n",
       "    <tr>\n",
       "      <th>(26.0, 34.0]</th>\n",
       "      <td>3401</td>\n",
       "      <td>86</td>\n",
       "    </tr>\n",
       "    <tr>\n",
       "      <th>(34.0, 42.0]</th>\n",
       "      <td>3500</td>\n",
       "      <td>207</td>\n",
       "    </tr>\n",
       "    <tr>\n",
       "      <th>(42.0, 50.0]</th>\n",
       "      <td>4139</td>\n",
       "      <td>411</td>\n",
       "    </tr>\n",
       "    <tr>\n",
       "      <th>(50.0, 58.0]</th>\n",
       "      <td>4284</td>\n",
       "      <td>592</td>\n",
       "    </tr>\n",
       "    <tr>\n",
       "      <th>(58.0, 66.0]</th>\n",
       "      <td>3634</td>\n",
       "      <td>678</td>\n",
       "    </tr>\n",
       "    <tr>\n",
       "      <th>(66.0, 74.0]</th>\n",
       "      <td>2492</td>\n",
       "      <td>530</td>\n",
       "    </tr>\n",
       "    <tr>\n",
       "      <th>(74.0, 82.0]</th>\n",
       "      <td>2861</td>\n",
       "      <td>713</td>\n",
       "    </tr>\n",
       "  </tbody>\n",
       "</table>\n",
       "</div>"
      ],
      "text/plain": [
       "               Counts  Hypertension\n",
       "age_bin                            \n",
       "(9.999, 18.0]    1693             3\n",
       "(18.0, 26.0]     3061            21\n",
       "(26.0, 34.0]     3401            86\n",
       "(34.0, 42.0]     3500           207\n",
       "(42.0, 50.0]     4139           411\n",
       "(50.0, 58.0]     4284           592\n",
       "(58.0, 66.0]     3634           678\n",
       "(66.0, 74.0]     2492           530\n",
       "(74.0, 82.0]     2861           713"
      ]
     },
     "execution_count": 12,
     "metadata": {},
     "output_type": "execute_result"
    }
   ],
   "source": [
    "age_bin_df"
   ]
  },
  {
   "cell_type": "code",
   "execution_count": 13,
   "metadata": {},
   "outputs": [
    {
     "data": {
      "text/plain": [
       "<matplotlib.axes._subplots.AxesSubplot at 0x130bfc8d0>"
      ]
     },
     "execution_count": 13,
     "metadata": {},
     "output_type": "execute_result"
    },
    {
     "data": {
      "image/png": "[encoded data removed]",
      "text/plain": [
       "<Figure size 432x288 with 1 Axes>"
      ]
     },
     "metadata": {
      "needs_background": "light"
     },
     "output_type": "display_data"
    }
   ],
   "source": [
    "x = age_bin_df.index.astype(str)\n",
    "sns.scatterplot(x=x, y='Hypertension', data=age_bin_df)"
   ]
  },
  {
   "cell_type": "markdown",
   "metadata": {},
   "source": [
    "... it can be clearly seen that mainly people from the early mid-40s are affected by high blood pressure"
   ]
  },
  {
   "cell_type": "markdown",
   "metadata": {},
   "source": [
    "2. Overweight affects more often older people"
   ]
  },
  {
   "cell_type": "code",
   "execution_count": 14,
   "metadata": {},
   "outputs": [],
   "source": [
    "age_bin_df['BMI'] = stroke.groupby(['age_bin'])['bmi'].mean()"
   ]
  },
  {
   "cell_type": "code",
   "execution_count": 15,
   "metadata": {},
   "outputs": [
    {
     "data": {
      "text/html": [
       "<div>\n",
       "<style scoped>\n",
       "    .dataframe tbody tr th:only-of-type {\n",
       "        vertical-align: middle;\n",
       "    }\n",
       "\n",
       "    .dataframe tbody tr th {\n",
       "        vertical-align: top;\n",
       "    }\n",
       "\n",
       "    .dataframe thead th {\n",
       "        text-align: right;\n",
       "    }\n",
       "</style>\n",
       "<table border=\"1\" class=\"dataframe\">\n",
       "  <thead>\n",
       "    <tr style=\"text-align: right;\">\n",
       "      <th></th>\n",
       "      <th>Counts</th>\n",
       "      <th>Hypertension</th>\n",
       "      <th>BMI</th>\n",
       "    </tr>\n",
       "    <tr>\n",
       "      <th>age_bin</th>\n",
       "      <th></th>\n",
       "      <th></th>\n",
       "      <th></th>\n",
       "    </tr>\n",
       "  </thead>\n",
       "  <tbody>\n",
       "    <tr>\n",
       "      <th>(9.999, 18.0]</th>\n",
       "      <td>1693</td>\n",
       "      <td>3</td>\n",
       "      <td>24.986592</td>\n",
       "    </tr>\n",
       "    <tr>\n",
       "      <th>(18.0, 26.0]</th>\n",
       "      <td>3061</td>\n",
       "      <td>21</td>\n",
       "      <td>27.702581</td>\n",
       "    </tr>\n",
       "    <tr>\n",
       "      <th>(26.0, 34.0]</th>\n",
       "      <td>3401</td>\n",
       "      <td>86</td>\n",
       "      <td>30.027962</td>\n",
       "    </tr>\n",
       "    <tr>\n",
       "      <th>(34.0, 42.0]</th>\n",
       "      <td>3500</td>\n",
       "      <td>207</td>\n",
       "      <td>31.088000</td>\n",
       "    </tr>\n",
       "    <tr>\n",
       "      <th>(42.0, 50.0]</th>\n",
       "      <td>4139</td>\n",
       "      <td>411</td>\n",
       "      <td>31.290795</td>\n",
       "    </tr>\n",
       "    <tr>\n",
       "      <th>(50.0, 58.0]</th>\n",
       "      <td>4284</td>\n",
       "      <td>592</td>\n",
       "      <td>31.457750</td>\n",
       "    </tr>\n",
       "    <tr>\n",
       "      <th>(58.0, 66.0]</th>\n",
       "      <td>3634</td>\n",
       "      <td>678</td>\n",
       "      <td>31.420941</td>\n",
       "    </tr>\n",
       "    <tr>\n",
       "      <th>(66.0, 74.0]</th>\n",
       "      <td>2492</td>\n",
       "      <td>530</td>\n",
       "      <td>30.407624</td>\n",
       "    </tr>\n",
       "    <tr>\n",
       "      <th>(74.0, 82.0]</th>\n",
       "      <td>2861</td>\n",
       "      <td>713</td>\n",
       "      <td>28.405907</td>\n",
       "    </tr>\n",
       "  </tbody>\n",
       "</table>\n",
       "</div>"
      ],
      "text/plain": [
       "               Counts  Hypertension        BMI\n",
       "age_bin                                       \n",
       "(9.999, 18.0]    1693             3  24.986592\n",
       "(18.0, 26.0]     3061            21  27.702581\n",
       "(26.0, 34.0]     3401            86  30.027962\n",
       "(34.0, 42.0]     3500           207  31.088000\n",
       "(42.0, 50.0]     4139           411  31.290795\n",
       "(50.0, 58.0]     4284           592  31.457750\n",
       "(58.0, 66.0]     3634           678  31.420941\n",
       "(66.0, 74.0]     2492           530  30.407624\n",
       "(74.0, 82.0]     2861           713  28.405907"
      ]
     },
     "execution_count": 15,
     "metadata": {},
     "output_type": "execute_result"
    }
   ],
   "source": [
    "age_bin_df"
   ]
  },
  {
   "cell_type": "code",
   "execution_count": 16,
   "metadata": {},
   "outputs": [
    {
     "data": {
      "text/plain": [
       "<matplotlib.axes._subplots.AxesSubplot at 0x1180e9650>"
      ]
     },
     "execution_count": 16,
     "metadata": {},
     "output_type": "execute_result"
    },
    {
     "data": {
      "image/png": "[encoded data removed]",
      "text/plain": [
       "<Figure size 432x288 with 1 Axes>"
      ]
     },
     "metadata": {
      "needs_background": "light"
     },
     "output_type": "display_data"
    }
   ],
   "source": [
    "x = age_bin_df.index.astype(str)\n",
    "sns.scatterplot(x=x, y='BMI', data=age_bin_df)"
   ]
  },
  {
   "cell_type": "markdown",
   "metadata": {},
   "source": [
    "... as expected, the mean BMI increases with age. BMI over 25 is critical, over 30 equals obesity"
   ]
  },
  {
   "cell_type": "markdown",
   "metadata": {},
   "source": [
    "Let's have a look at how many people in the age-bins have obesity, aka BMI over 30."
   ]
  },
  {
   "cell_type": "code",
   "execution_count": 17,
   "metadata": {},
   "outputs": [
    {
     "data": {
      "text/plain": [
       "age_bin\n",
       "(9.999, 18.0]     313\n",
       "(18.0, 26.0]      877\n",
       "(26.0, 34.0]     1431\n",
       "(34.0, 42.0]     1686\n",
       "(42.0, 50.0]     2134\n",
       "(50.0, 58.0]     2273\n",
       "(58.0, 66.0]     1938\n",
       "(66.0, 74.0]     1199\n",
       "(74.0, 82.0]      983\n",
       "Name: age, dtype: int64"
      ]
     },
     "execution_count": 17,
     "metadata": {},
     "output_type": "execute_result"
    }
   ],
   "source": [
    "mask = stroke['bmi'] >= 30\n",
    "stroke[mask].groupby(['age_bin'])['age'].count()"
   ]
  },
  {
   "cell_type": "markdown",
   "metadata": {},
   "source": [
    "... between 42 and 66 more than half are obese!"
   ]
  },
  {
   "cell_type": "code",
   "execution_count": null,
   "metadata": {},
   "outputs": [],
   "source": []
  },
  {
   "cell_type": "markdown",
   "metadata": {},
   "source": [
    "3. High glucose levels (Diabetes) affects more often older people"
   ]
  },
  {
   "cell_type": "code",
   "execution_count": 18,
   "metadata": {},
   "outputs": [],
   "source": [
    "age_bin_df['Glucose'] = stroke.groupby(['age_bin'])['avg_glucose_level'].mean()"
   ]
  },
  {
   "cell_type": "code",
   "execution_count": 19,
   "metadata": {},
   "outputs": [
    {
     "data": {
      "text/html": [
       "<div>\n",
       "<style scoped>\n",
       "    .dataframe tbody tr th:only-of-type {\n",
       "        vertical-align: middle;\n",
       "    }\n",
       "\n",
       "    .dataframe tbody tr th {\n",
       "        vertical-align: top;\n",
       "    }\n",
       "\n",
       "    .dataframe thead th {\n",
       "        text-align: right;\n",
       "    }\n",
       "</style>\n",
       "<table border=\"1\" class=\"dataframe\">\n",
       "  <thead>\n",
       "    <tr style=\"text-align: right;\">\n",
       "      <th></th>\n",
       "      <th>Counts</th>\n",
       "      <th>Hypertension</th>\n",
       "      <th>BMI</th>\n",
       "      <th>Glucose</th>\n",
       "    </tr>\n",
       "    <tr>\n",
       "      <th>age_bin</th>\n",
       "      <th></th>\n",
       "      <th></th>\n",
       "      <th></th>\n",
       "      <th></th>\n",
       "    </tr>\n",
       "  </thead>\n",
       "  <tbody>\n",
       "    <tr>\n",
       "      <th>(9.999, 18.0]</th>\n",
       "      <td>1693</td>\n",
       "      <td>3</td>\n",
       "      <td>24.986592</td>\n",
       "      <td>92.498317</td>\n",
       "    </tr>\n",
       "    <tr>\n",
       "      <th>(18.0, 26.0]</th>\n",
       "      <td>3061</td>\n",
       "      <td>21</td>\n",
       "      <td>27.702581</td>\n",
       "      <td>93.054724</td>\n",
       "    </tr>\n",
       "    <tr>\n",
       "      <th>(26.0, 34.0]</th>\n",
       "      <td>3401</td>\n",
       "      <td>86</td>\n",
       "      <td>30.027962</td>\n",
       "      <td>96.439233</td>\n",
       "    </tr>\n",
       "    <tr>\n",
       "      <th>(34.0, 42.0]</th>\n",
       "      <td>3500</td>\n",
       "      <td>207</td>\n",
       "      <td>31.088000</td>\n",
       "      <td>99.500840</td>\n",
       "    </tr>\n",
       "    <tr>\n",
       "      <th>(42.0, 50.0]</th>\n",
       "      <td>4139</td>\n",
       "      <td>411</td>\n",
       "      <td>31.290795</td>\n",
       "      <td>101.961309</td>\n",
       "    </tr>\n",
       "    <tr>\n",
       "      <th>(50.0, 58.0]</th>\n",
       "      <td>4284</td>\n",
       "      <td>592</td>\n",
       "      <td>31.457750</td>\n",
       "      <td>110.893182</td>\n",
       "    </tr>\n",
       "    <tr>\n",
       "      <th>(58.0, 66.0]</th>\n",
       "      <td>3634</td>\n",
       "      <td>678</td>\n",
       "      <td>31.420941</td>\n",
       "      <td>116.995815</td>\n",
       "    </tr>\n",
       "    <tr>\n",
       "      <th>(66.0, 74.0]</th>\n",
       "      <td>2492</td>\n",
       "      <td>530</td>\n",
       "      <td>30.407624</td>\n",
       "      <td>121.421148</td>\n",
       "    </tr>\n",
       "    <tr>\n",
       "      <th>(74.0, 82.0]</th>\n",
       "      <td>2861</td>\n",
       "      <td>713</td>\n",
       "      <td>28.405907</td>\n",
       "      <td>122.393715</td>\n",
       "    </tr>\n",
       "  </tbody>\n",
       "</table>\n",
       "</div>"
      ],
      "text/plain": [
       "               Counts  Hypertension        BMI     Glucose\n",
       "age_bin                                                   \n",
       "(9.999, 18.0]    1693             3  24.986592   92.498317\n",
       "(18.0, 26.0]     3061            21  27.702581   93.054724\n",
       "(26.0, 34.0]     3401            86  30.027962   96.439233\n",
       "(34.0, 42.0]     3500           207  31.088000   99.500840\n",
       "(42.0, 50.0]     4139           411  31.290795  101.961309\n",
       "(50.0, 58.0]     4284           592  31.457750  110.893182\n",
       "(58.0, 66.0]     3634           678  31.420941  116.995815\n",
       "(66.0, 74.0]     2492           530  30.407624  121.421148\n",
       "(74.0, 82.0]     2861           713  28.405907  122.393715"
      ]
     },
     "execution_count": 19,
     "metadata": {},
     "output_type": "execute_result"
    }
   ],
   "source": [
    "age_bin_df"
   ]
  },
  {
   "cell_type": "code",
   "execution_count": 20,
   "metadata": {},
   "outputs": [
    {
     "data": {
      "text/plain": [
       "<matplotlib.axes._subplots.AxesSubplot at 0x118121690>"
      ]
     },
     "execution_count": 20,
     "metadata": {},
     "output_type": "execute_result"
    },
    {
     "data": {
      "image/png": "[encoded data removed]",
      "text/plain": [
       "<Figure size 432x288 with 1 Axes>"
      ]
     },
     "metadata": {
      "needs_background": "light"
     },
     "output_type": "display_data"
    }
   ],
   "source": [
    "x = age_bin_df.index.astype(str)\n",
    "sns.scatterplot(x=x, y='Glucose', data=age_bin_df)"
   ]
  },
  {
   "cell_type": "raw",
   "metadata": {},
   "source": [
    "... glucose level raising with age."
   ]
  },
  {
   "cell_type": "markdown",
   "metadata": {},
   "source": [
    "Let's have a look at how many people in the age-bins have diabetes, aka glucose leves over 140."
   ]
  },
  {
   "cell_type": "code",
   "execution_count": 21,
   "metadata": {},
   "outputs": [
    {
     "data": {
      "text/plain": [
       "age_bin\n",
       "(9.999, 18.0]     95\n",
       "(18.0, 26.0]     153\n",
       "(26.0, 34.0]     261\n",
       "(34.0, 42.0]     360\n",
       "(42.0, 50.0]     528\n",
       "(50.0, 58.0]     826\n",
       "(58.0, 66.0]     910\n",
       "(66.0, 74.0]     708\n",
       "(74.0, 82.0]     830\n",
       "Name: age, dtype: int64"
      ]
     },
     "execution_count": 21,
     "metadata": {},
     "output_type": "execute_result"
    }
   ],
   "source": [
    "mask = stroke['avg_glucose_level'] >= 140\n",
    "stroke[mask].groupby(['age_bin'])['age'].count()"
   ]
  },
  {
   "cell_type": "markdown",
   "metadata": {},
   "source": [
    "... quite a lot actually. And these are only the known cases. The dark figure is high."
   ]
  },
  {
   "cell_type": "markdown",
   "metadata": {},
   "source": [
    "Let's try another thing: Women seems to get heart-diseases and stroke later in life then men."
   ]
  },
  {
   "cell_type": "code",
   "execution_count": 22,
   "metadata": {},
   "outputs": [
    {
     "data": {
      "text/plain": [
       "17852"
      ]
     },
     "execution_count": 22,
     "metadata": {},
     "output_type": "execute_result"
    }
   ],
   "source": [
    "mask = stroke['gender'] == 'Female'\n",
    "len(stroke[mask])"
   ]
  },
  {
   "cell_type": "code",
   "execution_count": 23,
   "metadata": {},
   "outputs": [
    {
     "data": {
      "text/plain": [
       "11213"
      ]
     },
     "execution_count": 23,
     "metadata": {},
     "output_type": "execute_result"
    }
   ],
   "source": [
    "mask = stroke['gender'] == 'Male'\n",
    "len(stroke[mask])"
   ]
  },
  {
   "cell_type": "markdown",
   "metadata": {},
   "source": [
    "We have to take into account that there are far more women in this data than men."
   ]
  },
  {
   "cell_type": "code",
   "execution_count": 24,
   "metadata": {},
   "outputs": [],
   "source": [
    "mask = stroke['gender'] == 'Female'\n",
    "age_bin_df['stroke_female_percentage'] = (stroke[mask].groupby(['age_bin'])['age'].count().values)/17852"
   ]
  },
  {
   "cell_type": "code",
   "execution_count": 25,
   "metadata": {},
   "outputs": [],
   "source": [
    "mask = stroke['gender'] == 'Male'\n",
    "age_bin_df['stroke_male_percentage'] = (stroke[mask].groupby(['age_bin'])['age'].count().values)/11213"
   ]
  },
  {
   "cell_type": "code",
   "execution_count": 26,
   "metadata": {},
   "outputs": [
    {
     "data": {
      "text/html": [
       "<div>\n",
       "<style scoped>\n",
       "    .dataframe tbody tr th:only-of-type {\n",
       "        vertical-align: middle;\n",
       "    }\n",
       "\n",
       "    .dataframe tbody tr th {\n",
       "        vertical-align: top;\n",
       "    }\n",
       "\n",
       "    .dataframe thead th {\n",
       "        text-align: right;\n",
       "    }\n",
       "</style>\n",
       "<table border=\"1\" class=\"dataframe\">\n",
       "  <thead>\n",
       "    <tr style=\"text-align: right;\">\n",
       "      <th></th>\n",
       "      <th>Counts</th>\n",
       "      <th>Hypertension</th>\n",
       "      <th>BMI</th>\n",
       "      <th>Glucose</th>\n",
       "      <th>stroke_female_percentage</th>\n",
       "      <th>stroke_male_percentage</th>\n",
       "    </tr>\n",
       "    <tr>\n",
       "      <th>age_bin</th>\n",
       "      <th></th>\n",
       "      <th></th>\n",
       "      <th></th>\n",
       "      <th></th>\n",
       "      <th></th>\n",
       "      <th></th>\n",
       "    </tr>\n",
       "  </thead>\n",
       "  <tbody>\n",
       "    <tr>\n",
       "      <th>(9.999, 18.0]</th>\n",
       "      <td>1693</td>\n",
       "      <td>3</td>\n",
       "      <td>24.986592</td>\n",
       "      <td>92.498317</td>\n",
       "      <td>0.053271</td>\n",
       "      <td>0.066173</td>\n",
       "    </tr>\n",
       "    <tr>\n",
       "      <th>(18.0, 26.0]</th>\n",
       "      <td>3061</td>\n",
       "      <td>21</td>\n",
       "      <td>27.702581</td>\n",
       "      <td>93.054724</td>\n",
       "      <td>0.117074</td>\n",
       "      <td>0.086596</td>\n",
       "    </tr>\n",
       "    <tr>\n",
       "      <th>(26.0, 34.0]</th>\n",
       "      <td>3401</td>\n",
       "      <td>86</td>\n",
       "      <td>30.027962</td>\n",
       "      <td>96.439233</td>\n",
       "      <td>0.126933</td>\n",
       "      <td>0.101222</td>\n",
       "    </tr>\n",
       "    <tr>\n",
       "      <th>(34.0, 42.0]</th>\n",
       "      <td>3500</td>\n",
       "      <td>207</td>\n",
       "      <td>31.088000</td>\n",
       "      <td>99.500840</td>\n",
       "      <td>0.123460</td>\n",
       "      <td>0.115580</td>\n",
       "    </tr>\n",
       "    <tr>\n",
       "      <th>(42.0, 50.0]</th>\n",
       "      <td>4139</td>\n",
       "      <td>411</td>\n",
       "      <td>31.290795</td>\n",
       "      <td>101.961309</td>\n",
       "      <td>0.140264</td>\n",
       "      <td>0.145813</td>\n",
       "    </tr>\n",
       "    <tr>\n",
       "      <th>(50.0, 58.0]</th>\n",
       "      <td>4284</td>\n",
       "      <td>592</td>\n",
       "      <td>31.457750</td>\n",
       "      <td>110.893182</td>\n",
       "      <td>0.143457</td>\n",
       "      <td>0.153661</td>\n",
       "    </tr>\n",
       "    <tr>\n",
       "      <th>(58.0, 66.0]</th>\n",
       "      <td>3634</td>\n",
       "      <td>678</td>\n",
       "      <td>31.420941</td>\n",
       "      <td>116.995815</td>\n",
       "      <td>0.117466</td>\n",
       "      <td>0.137073</td>\n",
       "    </tr>\n",
       "    <tr>\n",
       "      <th>(66.0, 74.0]</th>\n",
       "      <td>2492</td>\n",
       "      <td>530</td>\n",
       "      <td>30.407624</td>\n",
       "      <td>121.421148</td>\n",
       "      <td>0.080607</td>\n",
       "      <td>0.093909</td>\n",
       "    </tr>\n",
       "    <tr>\n",
       "      <th>(74.0, 82.0]</th>\n",
       "      <td>2861</td>\n",
       "      <td>713</td>\n",
       "      <td>28.405907</td>\n",
       "      <td>122.393715</td>\n",
       "      <td>0.097468</td>\n",
       "      <td>0.099973</td>\n",
       "    </tr>\n",
       "  </tbody>\n",
       "</table>\n",
       "</div>"
      ],
      "text/plain": [
       "               Counts  Hypertension        BMI     Glucose  \\\n",
       "age_bin                                                      \n",
       "(9.999, 18.0]    1693             3  24.986592   92.498317   \n",
       "(18.0, 26.0]     3061            21  27.702581   93.054724   \n",
       "(26.0, 34.0]     3401            86  30.027962   96.439233   \n",
       "(34.0, 42.0]     3500           207  31.088000   99.500840   \n",
       "(42.0, 50.0]     4139           411  31.290795  101.961309   \n",
       "(50.0, 58.0]     4284           592  31.457750  110.893182   \n",
       "(58.0, 66.0]     3634           678  31.420941  116.995815   \n",
       "(66.0, 74.0]     2492           530  30.407624  121.421148   \n",
       "(74.0, 82.0]     2861           713  28.405907  122.393715   \n",
       "\n",
       "               stroke_female_percentage  stroke_male_percentage  \n",
       "age_bin                                                          \n",
       "(9.999, 18.0]                  0.053271                0.066173  \n",
       "(18.0, 26.0]                   0.117074                0.086596  \n",
       "(26.0, 34.0]                   0.126933                0.101222  \n",
       "(34.0, 42.0]                   0.123460                0.115580  \n",
       "(42.0, 50.0]                   0.140264                0.145813  \n",
       "(50.0, 58.0]                   0.143457                0.153661  \n",
       "(58.0, 66.0]                   0.117466                0.137073  \n",
       "(66.0, 74.0]                   0.080607                0.093909  \n",
       "(74.0, 82.0]                   0.097468                0.099973  "
      ]
     },
     "execution_count": 26,
     "metadata": {},
     "output_type": "execute_result"
    }
   ],
   "source": [
    "age_bin_df"
   ]
  },
  {
   "cell_type": "markdown",
   "metadata": {},
   "source": [
    "... in very young years (for a stroke) women seem to be more at a risk. Beginning from 40 to 45, men are more at a risk. From the seventies on the risk equalies."
   ]
  },
  {
   "cell_type": "markdown",
   "metadata": {},
   "source": [
    "Okay, one last analysis here, kinda funny: Check the features comparing married with unmarried people. Because that's what they say: Married people live healthier. We'll see!"
   ]
  },
  {
   "cell_type": "markdown",
   "metadata": {},
   "source": [
    "Let's check this with the BMI ... so the body weight."
   ]
  },
  {
   "cell_type": "code",
   "execution_count": 27,
   "metadata": {},
   "outputs": [
    {
     "data": {
      "text/plain": [
       "21687"
      ]
     },
     "execution_count": 27,
     "metadata": {},
     "output_type": "execute_result"
    }
   ],
   "source": [
    "mask = stroke['ever_married'] == 'Yes'\n",
    "len(stroke[mask])"
   ]
  },
  {
   "cell_type": "code",
   "execution_count": 28,
   "metadata": {},
   "outputs": [
    {
     "data": {
      "text/plain": [
       "7378"
      ]
     },
     "execution_count": 28,
     "metadata": {},
     "output_type": "execute_result"
    }
   ],
   "source": [
    "mask = stroke['ever_married'] == 'No'\n",
    "len(stroke[mask])"
   ]
  },
  {
   "cell_type": "code",
   "execution_count": 29,
   "metadata": {},
   "outputs": [],
   "source": [
    "mask = stroke['ever_married'] == 'Yes'\n",
    "mask2 = stroke['bmi'] > 25\n",
    "age_bin_df['married_high_bmi'] = (stroke[mask & mask2].groupby(['age_bin'])['age'].count().values)/21687"
   ]
  },
  {
   "cell_type": "code",
   "execution_count": 30,
   "metadata": {},
   "outputs": [],
   "source": [
    "mask = stroke['ever_married'] == 'No'\n",
    "age_bin_df['not_married_high_bmi'] = (stroke[mask & mask2].groupby(['age_bin'])['age'].count().values)/7378"
   ]
  },
  {
   "cell_type": "code",
   "execution_count": 31,
   "metadata": {},
   "outputs": [
    {
     "data": {
      "text/html": [
       "<div>\n",
       "<style scoped>\n",
       "    .dataframe tbody tr th:only-of-type {\n",
       "        vertical-align: middle;\n",
       "    }\n",
       "\n",
       "    .dataframe tbody tr th {\n",
       "        vertical-align: top;\n",
       "    }\n",
       "\n",
       "    .dataframe thead th {\n",
       "        text-align: right;\n",
       "    }\n",
       "</style>\n",
       "<table border=\"1\" class=\"dataframe\">\n",
       "  <thead>\n",
       "    <tr style=\"text-align: right;\">\n",
       "      <th></th>\n",
       "      <th>Counts</th>\n",
       "      <th>Hypertension</th>\n",
       "      <th>BMI</th>\n",
       "      <th>Glucose</th>\n",
       "      <th>stroke_female_percentage</th>\n",
       "      <th>stroke_male_percentage</th>\n",
       "      <th>married_high_bmi</th>\n",
       "      <th>not_married_high_bmi</th>\n",
       "    </tr>\n",
       "    <tr>\n",
       "      <th>age_bin</th>\n",
       "      <th></th>\n",
       "      <th></th>\n",
       "      <th></th>\n",
       "      <th></th>\n",
       "      <th></th>\n",
       "      <th></th>\n",
       "      <th></th>\n",
       "      <th></th>\n",
       "    </tr>\n",
       "  </thead>\n",
       "  <tbody>\n",
       "    <tr>\n",
       "      <th>(9.999, 18.0]</th>\n",
       "      <td>1693</td>\n",
       "      <td>3</td>\n",
       "      <td>24.986592</td>\n",
       "      <td>92.498317</td>\n",
       "      <td>0.053271</td>\n",
       "      <td>0.066173</td>\n",
       "      <td>0.000046</td>\n",
       "      <td>0.089049</td>\n",
       "    </tr>\n",
       "    <tr>\n",
       "      <th>(18.0, 26.0]</th>\n",
       "      <td>3061</td>\n",
       "      <td>21</td>\n",
       "      <td>27.702581</td>\n",
       "      <td>93.054724</td>\n",
       "      <td>0.117074</td>\n",
       "      <td>0.086596</td>\n",
       "      <td>0.018029</td>\n",
       "      <td>0.188533</td>\n",
       "    </tr>\n",
       "    <tr>\n",
       "      <th>(26.0, 34.0]</th>\n",
       "      <td>3401</td>\n",
       "      <td>86</td>\n",
       "      <td>30.027962</td>\n",
       "      <td>96.439233</td>\n",
       "      <td>0.126933</td>\n",
       "      <td>0.101222</td>\n",
       "      <td>0.069443</td>\n",
       "      <td>0.129574</td>\n",
       "    </tr>\n",
       "    <tr>\n",
       "      <th>(34.0, 42.0]</th>\n",
       "      <td>3500</td>\n",
       "      <td>207</td>\n",
       "      <td>31.088000</td>\n",
       "      <td>99.500840</td>\n",
       "      <td>0.123460</td>\n",
       "      <td>0.115580</td>\n",
       "      <td>0.103610</td>\n",
       "      <td>0.064787</td>\n",
       "    </tr>\n",
       "    <tr>\n",
       "      <th>(42.0, 50.0]</th>\n",
       "      <td>4139</td>\n",
       "      <td>411</td>\n",
       "      <td>31.290795</td>\n",
       "      <td>101.961309</td>\n",
       "      <td>0.140264</td>\n",
       "      <td>0.145813</td>\n",
       "      <td>0.137963</td>\n",
       "      <td>0.044999</td>\n",
       "    </tr>\n",
       "    <tr>\n",
       "      <th>(50.0, 58.0]</th>\n",
       "      <td>4284</td>\n",
       "      <td>592</td>\n",
       "      <td>31.457750</td>\n",
       "      <td>110.893182</td>\n",
       "      <td>0.143457</td>\n",
       "      <td>0.153661</td>\n",
       "      <td>0.152303</td>\n",
       "      <td>0.032258</td>\n",
       "    </tr>\n",
       "    <tr>\n",
       "      <th>(58.0, 66.0]</th>\n",
       "      <td>3634</td>\n",
       "      <td>678</td>\n",
       "      <td>31.420941</td>\n",
       "      <td>116.995815</td>\n",
       "      <td>0.117466</td>\n",
       "      <td>0.137073</td>\n",
       "      <td>0.133490</td>\n",
       "      <td>0.025346</td>\n",
       "    </tr>\n",
       "    <tr>\n",
       "      <th>(66.0, 74.0]</th>\n",
       "      <td>2492</td>\n",
       "      <td>530</td>\n",
       "      <td>30.407624</td>\n",
       "      <td>121.421148</td>\n",
       "      <td>0.080607</td>\n",
       "      <td>0.093909</td>\n",
       "      <td>0.089639</td>\n",
       "      <td>0.015045</td>\n",
       "    </tr>\n",
       "    <tr>\n",
       "      <th>(74.0, 82.0]</th>\n",
       "      <td>2861</td>\n",
       "      <td>713</td>\n",
       "      <td>28.405907</td>\n",
       "      <td>122.393715</td>\n",
       "      <td>0.097468</td>\n",
       "      <td>0.099973</td>\n",
       "      <td>0.084290</td>\n",
       "      <td>0.027514</td>\n",
       "    </tr>\n",
       "  </tbody>\n",
       "</table>\n",
       "</div>"
      ],
      "text/plain": [
       "               Counts  Hypertension        BMI     Glucose  \\\n",
       "age_bin                                                      \n",
       "(9.999, 18.0]    1693             3  24.986592   92.498317   \n",
       "(18.0, 26.0]     3061            21  27.702581   93.054724   \n",
       "(26.0, 34.0]     3401            86  30.027962   96.439233   \n",
       "(34.0, 42.0]     3500           207  31.088000   99.500840   \n",
       "(42.0, 50.0]     4139           411  31.290795  101.961309   \n",
       "(50.0, 58.0]     4284           592  31.457750  110.893182   \n",
       "(58.0, 66.0]     3634           678  31.420941  116.995815   \n",
       "(66.0, 74.0]     2492           530  30.407624  121.421148   \n",
       "(74.0, 82.0]     2861           713  28.405907  122.393715   \n",
       "\n",
       "               stroke_female_percentage  stroke_male_percentage  \\\n",
       "age_bin                                                           \n",
       "(9.999, 18.0]                  0.053271                0.066173   \n",
       "(18.0, 26.0]                   0.117074                0.086596   \n",
       "(26.0, 34.0]                   0.126933                0.101222   \n",
       "(34.0, 42.0]                   0.123460                0.115580   \n",
       "(42.0, 50.0]                   0.140264                0.145813   \n",
       "(50.0, 58.0]                   0.143457                0.153661   \n",
       "(58.0, 66.0]                   0.117466                0.137073   \n",
       "(66.0, 74.0]                   0.080607                0.093909   \n",
       "(74.0, 82.0]                   0.097468                0.099973   \n",
       "\n",
       "               married_high_bmi  not_married_high_bmi  \n",
       "age_bin                                                \n",
       "(9.999, 18.0]          0.000046              0.089049  \n",
       "(18.0, 26.0]           0.018029              0.188533  \n",
       "(26.0, 34.0]           0.069443              0.129574  \n",
       "(34.0, 42.0]           0.103610              0.064787  \n",
       "(42.0, 50.0]           0.137963              0.044999  \n",
       "(50.0, 58.0]           0.152303              0.032258  \n",
       "(58.0, 66.0]           0.133490              0.025346  \n",
       "(66.0, 74.0]           0.089639              0.015045  \n",
       "(74.0, 82.0]           0.084290              0.027514  "
      ]
     },
     "execution_count": 31,
     "metadata": {},
     "output_type": "execute_result"
    }
   ],
   "source": [
    "age_bin_df"
   ]
  },
  {
   "cell_type": "markdown",
   "metadata": {},
   "source": [
    "... looks like marriage makes you fat in the long run. Oops!"
   ]
  },
  {
   "cell_type": "code",
   "execution_count": null,
   "metadata": {},
   "outputs": [],
   "source": []
  },
  {
   "cell_type": "markdown",
   "metadata": {},
   "source": [
    "Okay, let's check for some correlations. As the correlations are well known, it will be interesting to see them confirmed in the data. For these analysis we need to transform categorical data into numbers."
   ]
  },
  {
   "cell_type": "code",
   "execution_count": null,
   "metadata": {},
   "outputs": [],
   "source": []
  },
  {
   "cell_type": "code",
   "execution_count": 32,
   "metadata": {},
   "outputs": [],
   "source": [
    "stroke['gender_number'] = stroke['gender'].replace(to_replace=['Male', 'Female'], value=[0,1])"
   ]
  },
  {
   "cell_type": "code",
   "execution_count": 33,
   "metadata": {},
   "outputs": [],
   "source": [
    "stroke['married_number'] = stroke['ever_married'].replace(to_replace=['Yes', 'No'], value=[0,1])"
   ]
  },
  {
   "cell_type": "code",
   "execution_count": 34,
   "metadata": {},
   "outputs": [],
   "source": [
    "stroke['work_type_numbers'] = stroke['work_type'].replace(to_replace=['Private', 'Self-employed', 'Govt_job', 'Never_worked', 'children'], value=[0,1,2,3,4])"
   ]
  },
  {
   "cell_type": "code",
   "execution_count": 35,
   "metadata": {},
   "outputs": [],
   "source": [
    "stroke['residence_type_numbers'] = stroke['Residence_type'].replace(to_replace=['Rural', 'Urban'], value=[0,1])"
   ]
  },
  {
   "cell_type": "code",
   "execution_count": 36,
   "metadata": {},
   "outputs": [],
   "source": [
    "stroke['smoker_numbers'] = stroke['smoking_status'].replace(to_replace=['never smoked', 'formerly smoked', 'smokes'], value=[0,1,2])"
   ]
  },
  {
   "cell_type": "code",
   "execution_count": 37,
   "metadata": {},
   "outputs": [
    {
     "data": {
      "text/html": [
       "<div>\n",
       "<style scoped>\n",
       "    .dataframe tbody tr th:only-of-type {\n",
       "        vertical-align: middle;\n",
       "    }\n",
       "\n",
       "    .dataframe tbody tr th {\n",
       "        vertical-align: top;\n",
       "    }\n",
       "\n",
       "    .dataframe thead th {\n",
       "        text-align: right;\n",
       "    }\n",
       "</style>\n",
       "<table border=\"1\" class=\"dataframe\">\n",
       "  <thead>\n",
       "    <tr style=\"text-align: right;\">\n",
       "      <th></th>\n",
       "      <th>gender</th>\n",
       "      <th>age</th>\n",
       "      <th>hypertension</th>\n",
       "      <th>heart_disease</th>\n",
       "      <th>ever_married</th>\n",
       "      <th>work_type</th>\n",
       "      <th>Residence_type</th>\n",
       "      <th>avg_glucose_level</th>\n",
       "      <th>bmi</th>\n",
       "      <th>smoking_status</th>\n",
       "      <th>stroke</th>\n",
       "      <th>age_bin</th>\n",
       "      <th>gender_number</th>\n",
       "      <th>married_number</th>\n",
       "      <th>work_type_numbers</th>\n",
       "      <th>residence_type_numbers</th>\n",
       "      <th>smoker_numbers</th>\n",
       "    </tr>\n",
       "  </thead>\n",
       "  <tbody>\n",
       "    <tr>\n",
       "      <th>0</th>\n",
       "      <td>Male</td>\n",
       "      <td>58.0</td>\n",
       "      <td>1</td>\n",
       "      <td>0</td>\n",
       "      <td>Yes</td>\n",
       "      <td>Private</td>\n",
       "      <td>Urban</td>\n",
       "      <td>87.96</td>\n",
       "      <td>39.2</td>\n",
       "      <td>never smoked</td>\n",
       "      <td>0</td>\n",
       "      <td>(50.0, 58.0]</td>\n",
       "      <td>0</td>\n",
       "      <td>0</td>\n",
       "      <td>0</td>\n",
       "      <td>1</td>\n",
       "      <td>0</td>\n",
       "    </tr>\n",
       "    <tr>\n",
       "      <th>1</th>\n",
       "      <td>Female</td>\n",
       "      <td>70.0</td>\n",
       "      <td>0</td>\n",
       "      <td>0</td>\n",
       "      <td>Yes</td>\n",
       "      <td>Private</td>\n",
       "      <td>Rural</td>\n",
       "      <td>69.04</td>\n",
       "      <td>35.9</td>\n",
       "      <td>formerly smoked</td>\n",
       "      <td>0</td>\n",
       "      <td>(66.0, 74.0]</td>\n",
       "      <td>1</td>\n",
       "      <td>0</td>\n",
       "      <td>0</td>\n",
       "      <td>0</td>\n",
       "      <td>1</td>\n",
       "    </tr>\n",
       "    <tr>\n",
       "      <th>2</th>\n",
       "      <td>Female</td>\n",
       "      <td>52.0</td>\n",
       "      <td>0</td>\n",
       "      <td>0</td>\n",
       "      <td>Yes</td>\n",
       "      <td>Private</td>\n",
       "      <td>Urban</td>\n",
       "      <td>77.59</td>\n",
       "      <td>17.7</td>\n",
       "      <td>formerly smoked</td>\n",
       "      <td>0</td>\n",
       "      <td>(50.0, 58.0]</td>\n",
       "      <td>1</td>\n",
       "      <td>0</td>\n",
       "      <td>0</td>\n",
       "      <td>1</td>\n",
       "      <td>1</td>\n",
       "    </tr>\n",
       "    <tr>\n",
       "      <th>3</th>\n",
       "      <td>Female</td>\n",
       "      <td>75.0</td>\n",
       "      <td>0</td>\n",
       "      <td>1</td>\n",
       "      <td>Yes</td>\n",
       "      <td>Self-employed</td>\n",
       "      <td>Rural</td>\n",
       "      <td>243.53</td>\n",
       "      <td>27.0</td>\n",
       "      <td>never smoked</td>\n",
       "      <td>0</td>\n",
       "      <td>(74.0, 82.0]</td>\n",
       "      <td>1</td>\n",
       "      <td>0</td>\n",
       "      <td>1</td>\n",
       "      <td>0</td>\n",
       "      <td>0</td>\n",
       "    </tr>\n",
       "    <tr>\n",
       "      <th>4</th>\n",
       "      <td>Female</td>\n",
       "      <td>32.0</td>\n",
       "      <td>0</td>\n",
       "      <td>0</td>\n",
       "      <td>Yes</td>\n",
       "      <td>Private</td>\n",
       "      <td>Rural</td>\n",
       "      <td>77.67</td>\n",
       "      <td>32.3</td>\n",
       "      <td>smokes</td>\n",
       "      <td>0</td>\n",
       "      <td>(26.0, 34.0]</td>\n",
       "      <td>1</td>\n",
       "      <td>0</td>\n",
       "      <td>0</td>\n",
       "      <td>0</td>\n",
       "      <td>2</td>\n",
       "    </tr>\n",
       "  </tbody>\n",
       "</table>\n",
       "</div>"
      ],
      "text/plain": [
       "   gender   age  hypertension  heart_disease ever_married      work_type  \\\n",
       "0    Male  58.0             1              0          Yes        Private   \n",
       "1  Female  70.0             0              0          Yes        Private   \n",
       "2  Female  52.0             0              0          Yes        Private   \n",
       "3  Female  75.0             0              1          Yes  Self-employed   \n",
       "4  Female  32.0             0              0          Yes        Private   \n",
       "\n",
       "  Residence_type  avg_glucose_level   bmi   smoking_status  stroke  \\\n",
       "0          Urban              87.96  39.2     never smoked       0   \n",
       "1          Rural              69.04  35.9  formerly smoked       0   \n",
       "2          Urban              77.59  17.7  formerly smoked       0   \n",
       "3          Rural             243.53  27.0     never smoked       0   \n",
       "4          Rural              77.67  32.3           smokes       0   \n",
       "\n",
       "        age_bin  gender_number  married_number  work_type_numbers  \\\n",
       "0  (50.0, 58.0]              0               0                  0   \n",
       "1  (66.0, 74.0]              1               0                  0   \n",
       "2  (50.0, 58.0]              1               0                  0   \n",
       "3  (74.0, 82.0]              1               0                  1   \n",
       "4  (26.0, 34.0]              1               0                  0   \n",
       "\n",
       "   residence_type_numbers  smoker_numbers  \n",
       "0                       1               0  \n",
       "1                       0               1  \n",
       "2                       1               1  \n",
       "3                       0               0  \n",
       "4                       0               2  "
      ]
     },
     "execution_count": 37,
     "metadata": {},
     "output_type": "execute_result"
    }
   ],
   "source": [
    "stroke.head()"
   ]
  },
  {
   "cell_type": "code",
   "execution_count": null,
   "metadata": {},
   "outputs": [],
   "source": []
  },
  {
   "cell_type": "markdown",
   "metadata": {},
   "source": [
    "Also here, already setting up a dataframe with dummies for machine learning steps later on"
   ]
  },
  {
   "cell_type": "code",
   "execution_count": 38,
   "metadata": {},
   "outputs": [],
   "source": [
    "stroke_ml = pd.get_dummies(stroke, columns=['gender', 'ever_married', 'work_type', 'Residence_type', 'smoking_status'], prefix=['gender', 'married', 'work', 'residence', 'smoker'])"
   ]
  },
  {
   "cell_type": "code",
   "execution_count": 39,
   "metadata": {},
   "outputs": [
    {
     "data": {
      "text/html": [
       "<div>\n",
       "<style scoped>\n",
       "    .dataframe tbody tr th:only-of-type {\n",
       "        vertical-align: middle;\n",
       "    }\n",
       "\n",
       "    .dataframe tbody tr th {\n",
       "        vertical-align: top;\n",
       "    }\n",
       "\n",
       "    .dataframe thead th {\n",
       "        text-align: right;\n",
       "    }\n",
       "</style>\n",
       "<table border=\"1\" class=\"dataframe\">\n",
       "  <thead>\n",
       "    <tr style=\"text-align: right;\">\n",
       "      <th></th>\n",
       "      <th>age</th>\n",
       "      <th>hypertension</th>\n",
       "      <th>heart_disease</th>\n",
       "      <th>avg_glucose_level</th>\n",
       "      <th>bmi</th>\n",
       "      <th>stroke</th>\n",
       "      <th>age_bin</th>\n",
       "      <th>gender_number</th>\n",
       "      <th>married_number</th>\n",
       "      <th>work_type_numbers</th>\n",
       "      <th>...</th>\n",
       "      <th>work_Govt_job</th>\n",
       "      <th>work_Never_worked</th>\n",
       "      <th>work_Private</th>\n",
       "      <th>work_Self-employed</th>\n",
       "      <th>work_children</th>\n",
       "      <th>residence_Rural</th>\n",
       "      <th>residence_Urban</th>\n",
       "      <th>smoker_formerly smoked</th>\n",
       "      <th>smoker_never smoked</th>\n",
       "      <th>smoker_smokes</th>\n",
       "    </tr>\n",
       "  </thead>\n",
       "  <tbody>\n",
       "    <tr>\n",
       "      <th>0</th>\n",
       "      <td>58.0</td>\n",
       "      <td>1</td>\n",
       "      <td>0</td>\n",
       "      <td>87.96</td>\n",
       "      <td>39.2</td>\n",
       "      <td>0</td>\n",
       "      <td>(50.0, 58.0]</td>\n",
       "      <td>0</td>\n",
       "      <td>0</td>\n",
       "      <td>0</td>\n",
       "      <td>...</td>\n",
       "      <td>0</td>\n",
       "      <td>0</td>\n",
       "      <td>1</td>\n",
       "      <td>0</td>\n",
       "      <td>0</td>\n",
       "      <td>0</td>\n",
       "      <td>1</td>\n",
       "      <td>0</td>\n",
       "      <td>1</td>\n",
       "      <td>0</td>\n",
       "    </tr>\n",
       "    <tr>\n",
       "      <th>1</th>\n",
       "      <td>70.0</td>\n",
       "      <td>0</td>\n",
       "      <td>0</td>\n",
       "      <td>69.04</td>\n",
       "      <td>35.9</td>\n",
       "      <td>0</td>\n",
       "      <td>(66.0, 74.0]</td>\n",
       "      <td>1</td>\n",
       "      <td>0</td>\n",
       "      <td>0</td>\n",
       "      <td>...</td>\n",
       "      <td>0</td>\n",
       "      <td>0</td>\n",
       "      <td>1</td>\n",
       "      <td>0</td>\n",
       "      <td>0</td>\n",
       "      <td>1</td>\n",
       "      <td>0</td>\n",
       "      <td>1</td>\n",
       "      <td>0</td>\n",
       "      <td>0</td>\n",
       "    </tr>\n",
       "    <tr>\n",
       "      <th>2</th>\n",
       "      <td>52.0</td>\n",
       "      <td>0</td>\n",
       "      <td>0</td>\n",
       "      <td>77.59</td>\n",
       "      <td>17.7</td>\n",
       "      <td>0</td>\n",
       "      <td>(50.0, 58.0]</td>\n",
       "      <td>1</td>\n",
       "      <td>0</td>\n",
       "      <td>0</td>\n",
       "      <td>...</td>\n",
       "      <td>0</td>\n",
       "      <td>0</td>\n",
       "      <td>1</td>\n",
       "      <td>0</td>\n",
       "      <td>0</td>\n",
       "      <td>0</td>\n",
       "      <td>1</td>\n",
       "      <td>1</td>\n",
       "      <td>0</td>\n",
       "      <td>0</td>\n",
       "    </tr>\n",
       "    <tr>\n",
       "      <th>3</th>\n",
       "      <td>75.0</td>\n",
       "      <td>0</td>\n",
       "      <td>1</td>\n",
       "      <td>243.53</td>\n",
       "      <td>27.0</td>\n",
       "      <td>0</td>\n",
       "      <td>(74.0, 82.0]</td>\n",
       "      <td>1</td>\n",
       "      <td>0</td>\n",
       "      <td>1</td>\n",
       "      <td>...</td>\n",
       "      <td>0</td>\n",
       "      <td>0</td>\n",
       "      <td>0</td>\n",
       "      <td>1</td>\n",
       "      <td>0</td>\n",
       "      <td>1</td>\n",
       "      <td>0</td>\n",
       "      <td>0</td>\n",
       "      <td>1</td>\n",
       "      <td>0</td>\n",
       "    </tr>\n",
       "    <tr>\n",
       "      <th>4</th>\n",
       "      <td>32.0</td>\n",
       "      <td>0</td>\n",
       "      <td>0</td>\n",
       "      <td>77.67</td>\n",
       "      <td>32.3</td>\n",
       "      <td>0</td>\n",
       "      <td>(26.0, 34.0]</td>\n",
       "      <td>1</td>\n",
       "      <td>0</td>\n",
       "      <td>0</td>\n",
       "      <td>...</td>\n",
       "      <td>0</td>\n",
       "      <td>0</td>\n",
       "      <td>1</td>\n",
       "      <td>0</td>\n",
       "      <td>0</td>\n",
       "      <td>1</td>\n",
       "      <td>0</td>\n",
       "      <td>0</td>\n",
       "      <td>0</td>\n",
       "      <td>1</td>\n",
       "    </tr>\n",
       "  </tbody>\n",
       "</table>\n",
       "<p>5 rows × 26 columns</p>\n",
       "</div>"
      ],
      "text/plain": [
       "    age  hypertension  heart_disease  avg_glucose_level   bmi  stroke  \\\n",
       "0  58.0             1              0              87.96  39.2       0   \n",
       "1  70.0             0              0              69.04  35.9       0   \n",
       "2  52.0             0              0              77.59  17.7       0   \n",
       "3  75.0             0              1             243.53  27.0       0   \n",
       "4  32.0             0              0              77.67  32.3       0   \n",
       "\n",
       "        age_bin  gender_number  married_number  work_type_numbers  ...  \\\n",
       "0  (50.0, 58.0]              0               0                  0  ...   \n",
       "1  (66.0, 74.0]              1               0                  0  ...   \n",
       "2  (50.0, 58.0]              1               0                  0  ...   \n",
       "3  (74.0, 82.0]              1               0                  1  ...   \n",
       "4  (26.0, 34.0]              1               0                  0  ...   \n",
       "\n",
       "   work_Govt_job  work_Never_worked  work_Private  work_Self-employed  \\\n",
       "0              0                  0             1                   0   \n",
       "1              0                  0             1                   0   \n",
       "2              0                  0             1                   0   \n",
       "3              0                  0             0                   1   \n",
       "4              0                  0             1                   0   \n",
       "\n",
       "   work_children  residence_Rural  residence_Urban  smoker_formerly smoked  \\\n",
       "0              0                0                1                       0   \n",
       "1              0                1                0                       1   \n",
       "2              0                0                1                       1   \n",
       "3              0                1                0                       0   \n",
       "4              0                1                0                       0   \n",
       "\n",
       "   smoker_never smoked  smoker_smokes  \n",
       "0                    1              0  \n",
       "1                    0              0  \n",
       "2                    0              0  \n",
       "3                    1              0  \n",
       "4                    0              1  \n",
       "\n",
       "[5 rows x 26 columns]"
      ]
     },
     "execution_count": 39,
     "metadata": {},
     "output_type": "execute_result"
    }
   ],
   "source": [
    "stroke_ml.head()"
   ]
  },
  {
   "cell_type": "markdown",
   "metadata": {},
   "source": [
    "So here we go with the correlation analysis ..."
   ]
  },
  {
   "cell_type": "code",
   "execution_count": 40,
   "metadata": {},
   "outputs": [
    {
     "data": {
      "text/html": [
       "<div>\n",
       "<style scoped>\n",
       "    .dataframe tbody tr th:only-of-type {\n",
       "        vertical-align: middle;\n",
       "    }\n",
       "\n",
       "    .dataframe tbody tr th {\n",
       "        vertical-align: top;\n",
       "    }\n",
       "\n",
       "    .dataframe thead th {\n",
       "        text-align: right;\n",
       "    }\n",
       "</style>\n",
       "<table border=\"1\" class=\"dataframe\">\n",
       "  <thead>\n",
       "    <tr style=\"text-align: right;\">\n",
       "      <th></th>\n",
       "      <th>gender_number</th>\n",
       "      <th>age</th>\n",
       "      <th>hypertension</th>\n",
       "      <th>heart_disease</th>\n",
       "      <th>married_number</th>\n",
       "      <th>work_type_numbers</th>\n",
       "      <th>residence_type_numbers</th>\n",
       "      <th>avg_glucose_level</th>\n",
       "      <th>bmi</th>\n",
       "      <th>smoker_numbers</th>\n",
       "      <th>stroke</th>\n",
       "    </tr>\n",
       "  </thead>\n",
       "  <tbody>\n",
       "    <tr>\n",
       "      <th>gender_number</th>\n",
       "      <td>1.000000</td>\n",
       "      <td>-0.040595</td>\n",
       "      <td>-0.036748</td>\n",
       "      <td>-0.097634</td>\n",
       "      <td>0.024907</td>\n",
       "      <td>-0.025738</td>\n",
       "      <td>-0.006438</td>\n",
       "      <td>-0.050701</td>\n",
       "      <td>-0.021646</td>\n",
       "      <td>-0.091155</td>\n",
       "      <td>-0.012257</td>\n",
       "    </tr>\n",
       "    <tr>\n",
       "      <th>age</th>\n",
       "      <td>-0.040595</td>\n",
       "      <td>1.000000</td>\n",
       "      <td>0.257536</td>\n",
       "      <td>0.247430</td>\n",
       "      <td>-0.547131</td>\n",
       "      <td>-0.045517</td>\n",
       "      <td>0.003480</td>\n",
       "      <td>0.228283</td>\n",
       "      <td>0.106226</td>\n",
       "      <td>0.060343</td>\n",
       "      <td>0.154059</td>\n",
       "    </tr>\n",
       "    <tr>\n",
       "      <th>hypertension</th>\n",
       "      <td>-0.036748</td>\n",
       "      <td>0.257536</td>\n",
       "      <td>1.000000</td>\n",
       "      <td>0.117962</td>\n",
       "      <td>-0.130782</td>\n",
       "      <td>-0.000966</td>\n",
       "      <td>-0.002871</td>\n",
       "      <td>0.154052</td>\n",
       "      <td>0.129283</td>\n",
       "      <td>0.008762</td>\n",
       "      <td>0.078674</td>\n",
       "    </tr>\n",
       "    <tr>\n",
       "      <th>heart_disease</th>\n",
       "      <td>-0.097634</td>\n",
       "      <td>0.247430</td>\n",
       "      <td>0.117962</td>\n",
       "      <td>1.000000</td>\n",
       "      <td>-0.095226</td>\n",
       "      <td>0.001176</td>\n",
       "      <td>-0.003127</td>\n",
       "      <td>0.137482</td>\n",
       "      <td>0.022740</td>\n",
       "      <td>0.062739</td>\n",
       "      <td>0.105142</td>\n",
       "    </tr>\n",
       "    <tr>\n",
       "      <th>married_number</th>\n",
       "      <td>0.024907</td>\n",
       "      <td>-0.547131</td>\n",
       "      <td>-0.130782</td>\n",
       "      <td>-0.095226</td>\n",
       "      <td>1.000000</td>\n",
       "      <td>0.072390</td>\n",
       "      <td>-0.004918</td>\n",
       "      <td>-0.117362</td>\n",
       "      <td>-0.143129</td>\n",
       "      <td>-0.070319</td>\n",
       "      <td>-0.047724</td>\n",
       "    </tr>\n",
       "    <tr>\n",
       "      <th>work_type_numbers</th>\n",
       "      <td>-0.025738</td>\n",
       "      <td>-0.045517</td>\n",
       "      <td>-0.000966</td>\n",
       "      <td>0.001176</td>\n",
       "      <td>0.072390</td>\n",
       "      <td>1.000000</td>\n",
       "      <td>-0.008029</td>\n",
       "      <td>0.001578</td>\n",
       "      <td>-0.063215</td>\n",
       "      <td>-0.056140</td>\n",
       "      <td>-0.001518</td>\n",
       "    </tr>\n",
       "    <tr>\n",
       "      <th>residence_type_numbers</th>\n",
       "      <td>-0.006438</td>\n",
       "      <td>0.003480</td>\n",
       "      <td>-0.002871</td>\n",
       "      <td>-0.003127</td>\n",
       "      <td>-0.004918</td>\n",
       "      <td>-0.008029</td>\n",
       "      <td>1.000000</td>\n",
       "      <td>-0.002574</td>\n",
       "      <td>-0.002898</td>\n",
       "      <td>0.006279</td>\n",
       "      <td>0.001962</td>\n",
       "    </tr>\n",
       "    <tr>\n",
       "      <th>avg_glucose_level</th>\n",
       "      <td>-0.050701</td>\n",
       "      <td>0.228283</td>\n",
       "      <td>0.154052</td>\n",
       "      <td>0.137482</td>\n",
       "      <td>-0.117362</td>\n",
       "      <td>0.001578</td>\n",
       "      <td>-0.002574</td>\n",
       "      <td>1.000000</td>\n",
       "      <td>0.176936</td>\n",
       "      <td>0.025987</td>\n",
       "      <td>0.075447</td>\n",
       "    </tr>\n",
       "    <tr>\n",
       "      <th>bmi</th>\n",
       "      <td>-0.021646</td>\n",
       "      <td>0.106226</td>\n",
       "      <td>0.129283</td>\n",
       "      <td>0.022740</td>\n",
       "      <td>-0.143129</td>\n",
       "      <td>-0.063215</td>\n",
       "      <td>-0.002898</td>\n",
       "      <td>0.176936</td>\n",
       "      <td>1.000000</td>\n",
       "      <td>0.021148</td>\n",
       "      <td>-0.004039</td>\n",
       "    </tr>\n",
       "    <tr>\n",
       "      <th>smoker_numbers</th>\n",
       "      <td>-0.091155</td>\n",
       "      <td>0.060343</td>\n",
       "      <td>0.008762</td>\n",
       "      <td>0.062739</td>\n",
       "      <td>-0.070319</td>\n",
       "      <td>-0.056140</td>\n",
       "      <td>0.006279</td>\n",
       "      <td>0.025987</td>\n",
       "      <td>0.021148</td>\n",
       "      <td>1.000000</td>\n",
       "      <td>0.011148</td>\n",
       "    </tr>\n",
       "    <tr>\n",
       "      <th>stroke</th>\n",
       "      <td>-0.012257</td>\n",
       "      <td>0.154059</td>\n",
       "      <td>0.078674</td>\n",
       "      <td>0.105142</td>\n",
       "      <td>-0.047724</td>\n",
       "      <td>-0.001518</td>\n",
       "      <td>0.001962</td>\n",
       "      <td>0.075447</td>\n",
       "      <td>-0.004039</td>\n",
       "      <td>0.011148</td>\n",
       "      <td>1.000000</td>\n",
       "    </tr>\n",
       "  </tbody>\n",
       "</table>\n",
       "</div>"
      ],
      "text/plain": [
       "                        gender_number       age  hypertension  heart_disease  \\\n",
       "gender_number                1.000000 -0.040595     -0.036748      -0.097634   \n",
       "age                         -0.040595  1.000000      0.257536       0.247430   \n",
       "hypertension                -0.036748  0.257536      1.000000       0.117962   \n",
       "heart_disease               -0.097634  0.247430      0.117962       1.000000   \n",
       "married_number               0.024907 -0.547131     -0.130782      -0.095226   \n",
       "work_type_numbers           -0.025738 -0.045517     -0.000966       0.001176   \n",
       "residence_type_numbers      -0.006438  0.003480     -0.002871      -0.003127   \n",
       "avg_glucose_level           -0.050701  0.228283      0.154052       0.137482   \n",
       "bmi                         -0.021646  0.106226      0.129283       0.022740   \n",
       "smoker_numbers              -0.091155  0.060343      0.008762       0.062739   \n",
       "stroke                      -0.012257  0.154059      0.078674       0.105142   \n",
       "\n",
       "                        married_number  work_type_numbers  \\\n",
       "gender_number                 0.024907          -0.025738   \n",
       "age                          -0.547131          -0.045517   \n",
       "hypertension                 -0.130782          -0.000966   \n",
       "heart_disease                -0.095226           0.001176   \n",
       "married_number                1.000000           0.072390   \n",
       "work_type_numbers             0.072390           1.000000   \n",
       "residence_type_numbers       -0.004918          -0.008029   \n",
       "avg_glucose_level            -0.117362           0.001578   \n",
       "bmi                          -0.143129          -0.063215   \n",
       "smoker_numbers               -0.070319          -0.056140   \n",
       "stroke                       -0.047724          -0.001518   \n",
       "\n",
       "                        residence_type_numbers  avg_glucose_level       bmi  \\\n",
       "gender_number                        -0.006438          -0.050701 -0.021646   \n",
       "age                                   0.003480           0.228283  0.106226   \n",
       "hypertension                         -0.002871           0.154052  0.129283   \n",
       "heart_disease                        -0.003127           0.137482  0.022740   \n",
       "married_number                       -0.004918          -0.117362 -0.143129   \n",
       "work_type_numbers                    -0.008029           0.001578 -0.063215   \n",
       "residence_type_numbers                1.000000          -0.002574 -0.002898   \n",
       "avg_glucose_level                    -0.002574           1.000000  0.176936   \n",
       "bmi                                  -0.002898           0.176936  1.000000   \n",
       "smoker_numbers                        0.006279           0.025987  0.021148   \n",
       "stroke                                0.001962           0.075447 -0.004039   \n",
       "\n",
       "                        smoker_numbers    stroke  \n",
       "gender_number                -0.091155 -0.012257  \n",
       "age                           0.060343  0.154059  \n",
       "hypertension                  0.008762  0.078674  \n",
       "heart_disease                 0.062739  0.105142  \n",
       "married_number               -0.070319 -0.047724  \n",
       "work_type_numbers            -0.056140 -0.001518  \n",
       "residence_type_numbers        0.006279  0.001962  \n",
       "avg_glucose_level             0.025987  0.075447  \n",
       "bmi                           0.021148 -0.004039  \n",
       "smoker_numbers                1.000000  0.011148  \n",
       "stroke                        0.011148  1.000000  "
      ]
     },
     "execution_count": 40,
     "metadata": {},
     "output_type": "execute_result"
    }
   ],
   "source": [
    "stroke[['gender_number', 'age', 'hypertension', 'heart_disease', 'married_number', 'work_type_numbers', 'residence_type_numbers', 'avg_glucose_level', 'bmi', 'smoker_numbers', 'stroke']].corr()"
   ]
  },
  {
   "cell_type": "markdown",
   "metadata": {},
   "source": [
    "As expected, correlations between: age and hypertension, heart-disease, glucose-level and bmi. There are also other correlations, though expected, not that clear. I suppose we will get good models from the data."
   ]
  },
  {
   "cell_type": "code",
   "execution_count": null,
   "metadata": {},
   "outputs": [],
   "source": []
  },
  {
   "cell_type": "markdown",
   "metadata": {},
   "source": [
    "## Modelling"
   ]
  },
  {
   "cell_type": "markdown",
   "metadata": {},
   "source": [
    "### Chosing algos"
   ]
  },
  {
   "cell_type": "markdown",
   "metadata": {},
   "source": [
    "Some thoughts on the algorithms:\n",
    "One can expect some linear correlations, e.g. BMI, sugar levels, age, etc.\n",
    "Also some features should be good for logistic classification, e.g. the features gender, hypertension, heart-disease, who are true or false.\n",
    "We don't want to miss other classifications like K-Means.\n",
    "Decision trees should be tried.\n",
    "\n",
    "So this is the approach: First try all features together and see what happens. Then pick up the features good for linear regression and compare them to the all-features-outcome. Finally I will try a neural network."
   ]
  },
  {
   "cell_type": "code",
   "execution_count": 41,
   "metadata": {},
   "outputs": [],
   "source": [
    "from sklearn.preprocessing import StandardScaler\n",
    "from sklearn.model_selection import train_test_split\n",
    "\n",
    "from sklearn.linear_model import LogisticRegression, LinearRegression\n",
    "from sklearn.model_selection import cross_val_score, RepeatedKFold\n",
    "from sklearn.neighbors import KNeighborsClassifier\n",
    "from sklearn.tree import DecisionTreeClassifier\n",
    "from sklearn.ensemble import RandomForestClassifier\n",
    "from sklearn.naive_bayes import GaussianNB\n",
    "from sklearn.svm import SVC\n",
    "\n",
    "from sklearn.pipeline import Pipeline\n",
    "from sklearn.model_selection import GridSearchCV"
   ]
  },
  {
   "cell_type": "markdown",
   "metadata": {},
   "source": [
    "### All features: Define features"
   ]
  },
  {
   "cell_type": "code",
   "execution_count": 42,
   "metadata": {},
   "outputs": [],
   "source": [
    "X = stroke_ml.drop(['stroke', 'age_bin'], axis=1).values"
   ]
  },
  {
   "cell_type": "code",
   "execution_count": 43,
   "metadata": {},
   "outputs": [],
   "source": [
    "y = stroke_ml['stroke'].values"
   ]
  },
  {
   "cell_type": "markdown",
   "metadata": {},
   "source": [
    "### Split into train and test"
   ]
  },
  {
   "cell_type": "code",
   "execution_count": 44,
   "metadata": {},
   "outputs": [],
   "source": [
    "X_train, X_test, y_train, y_test = train_test_split(X, y, random_state = 0, test_size = 0.25)"
   ]
  },
  {
   "cell_type": "code",
   "execution_count": null,
   "metadata": {},
   "outputs": [],
   "source": []
  },
  {
   "cell_type": "markdown",
   "metadata": {},
   "source": [
    "### Scaling"
   ]
  },
  {
   "cell_type": "code",
   "execution_count": 45,
   "metadata": {},
   "outputs": [],
   "source": [
    "scaler = StandardScaler()\n",
    "scaler.fit(X_train)\n",
    "X_train_scaled = scaler.transform(X_train)\n",
    "X_test_scaled = scaler.transform(X_test)"
   ]
  },
  {
   "cell_type": "code",
   "execution_count": null,
   "metadata": {},
   "outputs": [],
   "source": []
  },
  {
   "cell_type": "markdown",
   "metadata": {},
   "source": [
    "### Linear Regression"
   ]
  },
  {
   "cell_type": "code",
   "execution_count": 46,
   "metadata": {},
   "outputs": [
    {
     "data": {
      "text/plain": [
       "LinearRegression(copy_X=True, fit_intercept=True, n_jobs=None, normalize=False)"
      ]
     },
     "execution_count": 46,
     "metadata": {},
     "output_type": "execute_result"
    }
   ],
   "source": [
    "model = LinearRegression()\n",
    "model.fit(X_train_scaled, y_train)"
   ]
  },
  {
   "cell_type": "code",
   "execution_count": 47,
   "metadata": {},
   "outputs": [
    {
     "name": "stdout",
     "output_type": "stream",
     "text": [
      "0.03444532957940205\n"
     ]
    }
   ],
   "source": [
    "print(model.score(X_test_scaled, y_test))"
   ]
  },
  {
   "cell_type": "markdown",
   "metadata": {},
   "source": [
    "This is not a good result! Well, let's try a K-Fold Cross Validation, just to confirm"
   ]
  },
  {
   "cell_type": "code",
   "execution_count": null,
   "metadata": {},
   "outputs": [],
   "source": []
  },
  {
   "cell_type": "markdown",
   "metadata": {},
   "source": [
    "### Linear Regression with K-Fold Cross Validation"
   ]
  },
  {
   "cell_type": "code",
   "execution_count": 48,
   "metadata": {},
   "outputs": [],
   "source": [
    "scores = cross_val_score(LinearRegression(), X, y, cv = RepeatedKFold(n_repeats=100))"
   ]
  },
  {
   "cell_type": "code",
   "execution_count": 49,
   "metadata": {},
   "outputs": [
    {
     "name": "stdout",
     "output_type": "stream",
     "text": [
      "0.031593321228083976\n"
     ]
    }
   ],
   "source": [
    "print(np.mean(scores))"
   ]
  },
  {
   "cell_type": "markdown",
   "metadata": {},
   "source": [
    "Didn't make it better."
   ]
  },
  {
   "cell_type": "code",
   "execution_count": null,
   "metadata": {},
   "outputs": [],
   "source": []
  },
  {
   "cell_type": "markdown",
   "metadata": {},
   "source": [
    "### Multinomial Logistic Regression"
   ]
  },
  {
   "cell_type": "code",
   "execution_count": 50,
   "metadata": {},
   "outputs": [
    {
     "data": {
      "text/plain": [
       "LogisticRegression(C=1.0, class_weight=None, dual=False, fit_intercept=True,\n",
       "                   intercept_scaling=1, l1_ratio=None, max_iter=100,\n",
       "                   multi_class='multinomial', n_jobs=None, penalty='l2',\n",
       "                   random_state=None, solver='newton-cg', tol=0.0001, verbose=0,\n",
       "                   warm_start=False)"
      ]
     },
     "execution_count": 50,
     "metadata": {},
     "output_type": "execute_result"
    }
   ],
   "source": [
    "model = LogisticRegression(multi_class = 'multinomial', solver = 'newton-cg')\n",
    "model.fit(X_train_scaled, y_train)"
   ]
  },
  {
   "cell_type": "code",
   "execution_count": 51,
   "metadata": {},
   "outputs": [
    {
     "name": "stdout",
     "output_type": "stream",
     "text": [
      "0.9811476537773497\n"
     ]
    }
   ],
   "source": [
    "print(model.score(X_test_scaled, y_test))"
   ]
  },
  {
   "cell_type": "markdown",
   "metadata": {},
   "source": [
    "Looking good so far! For the sake of completeness MLR with sag- and saga-solver."
   ]
  },
  {
   "cell_type": "code",
   "execution_count": 52,
   "metadata": {},
   "outputs": [
    {
     "name": "stdout",
     "output_type": "stream",
     "text": [
      "0.9811476537773497\n"
     ]
    },
    {
     "name": "stderr",
     "output_type": "stream",
     "text": [
      "/Library/Frameworks/Python.framework/Versions/3.7/lib/python3.7/site-packages/sklearn/linear_model/_sag.py:330: ConvergenceWarning: The max_iter was reached which means the coef_ did not converge\n",
      "  \"the coef_ did not converge\", ConvergenceWarning)\n"
     ]
    }
   ],
   "source": [
    "model = LogisticRegression(multi_class = 'multinomial', solver = 'sag')\n",
    "model.fit(X_train_scaled, y_train)\n",
    "print(model.score(X_test_scaled, y_test))"
   ]
  },
  {
   "cell_type": "code",
   "execution_count": 53,
   "metadata": {},
   "outputs": [
    {
     "name": "stdout",
     "output_type": "stream",
     "text": [
      "0.9811476537773497\n"
     ]
    }
   ],
   "source": [
    "model = LogisticRegression(multi_class = 'multinomial', solver = 'saga', max_iter = 400)\n",
    "model.fit(X_train_scaled, y_train)\n",
    "print(model.score(X_test_scaled, y_test))"
   ]
  },
  {
   "cell_type": "code",
   "execution_count": null,
   "metadata": {},
   "outputs": [],
   "source": []
  },
  {
   "cell_type": "markdown",
   "metadata": {},
   "source": [
    "### K-Neighbors Classifier"
   ]
  },
  {
   "cell_type": "code",
   "execution_count": 54,
   "metadata": {},
   "outputs": [
    {
     "name": "stdout",
     "output_type": "stream",
     "text": [
      "0.9811476537773497\n"
     ]
    }
   ],
   "source": [
    "model = KNeighborsClassifier(n_neighbors = 15)\n",
    "model.fit(X_train_scaled, y_train)\n",
    "print(model.score(X_test_scaled, y_test))"
   ]
  },
  {
   "cell_type": "code",
   "execution_count": null,
   "metadata": {},
   "outputs": [],
   "source": []
  },
  {
   "cell_type": "markdown",
   "metadata": {},
   "source": [
    "### Decision Tree"
   ]
  },
  {
   "cell_type": "code",
   "execution_count": 55,
   "metadata": {},
   "outputs": [
    {
     "name": "stdout",
     "output_type": "stream",
     "text": [
      "0.9617448740883445\n"
     ]
    }
   ],
   "source": [
    "model = DecisionTreeClassifier(criterion = 'entropy')\n",
    "model.fit(X_train, y_train)\n",
    "print(model.score(X_test, y_test))"
   ]
  },
  {
   "cell_type": "markdown",
   "metadata": {},
   "source": [
    "As this score is lower than the ones before, i refrain from a visualisation at this point."
   ]
  },
  {
   "cell_type": "code",
   "execution_count": null,
   "metadata": {},
   "outputs": [],
   "source": []
  },
  {
   "cell_type": "markdown",
   "metadata": {},
   "source": [
    "### Random Forest"
   ]
  },
  {
   "cell_type": "code",
   "execution_count": 56,
   "metadata": {},
   "outputs": [
    {
     "name": "stdout",
     "output_type": "stream",
     "text": [
      "0.9805972203109949\n"
     ]
    }
   ],
   "source": [
    "model = RandomForestClassifier(criterion = 'entropy', n_estimators = 15)\n",
    "model.fit(X_train_scaled, y_train)\n",
    "print(model.score(X_test_scaled, y_test))"
   ]
  },
  {
   "cell_type": "code",
   "execution_count": null,
   "metadata": {},
   "outputs": [],
   "source": []
  },
  {
   "cell_type": "markdown",
   "metadata": {},
   "source": [
    "### SVM"
   ]
  },
  {
   "cell_type": "code",
   "execution_count": 57,
   "metadata": {},
   "outputs": [
    {
     "name": "stdout",
     "output_type": "stream",
     "text": [
      "0.9811476537773497\n"
     ]
    }
   ],
   "source": [
    "model = SVC(kernel = 'rbf', gamma = 0.01, C = 1)\n",
    "model.fit(X_train_scaled, y_train)\n",
    "print(model.score(X_test_scaled, y_test))"
   ]
  },
  {
   "cell_type": "code",
   "execution_count": 58,
   "metadata": {},
   "outputs": [
    {
     "name": "stdout",
     "output_type": "stream",
     "text": [
      "0.9811476537773497\n"
     ]
    }
   ],
   "source": [
    "model = SVC(kernel = 'poly', degree = 2, coef0 = 1)\n",
    "model.fit(X_train_scaled, y_train)\n",
    "print(model.score(X_test_scaled, y_test))"
   ]
  },
  {
   "cell_type": "markdown",
   "metadata": {},
   "source": [
    "Resumee: The results were nearly identical - and quite good. The winner would be the polynomial regression, as this should be the fastest."
   ]
  },
  {
   "cell_type": "markdown",
   "metadata": {},
   "source": [
    "### Linear Regression with only linear features"
   ]
  },
  {
   "cell_type": "code",
   "execution_count": 59,
   "metadata": {},
   "outputs": [],
   "source": [
    "X = stroke_ml[['age', 'bmi', 'avg_glucose_level']].values"
   ]
  },
  {
   "cell_type": "markdown",
   "metadata": {},
   "source": [
    "Just three features, but let's see the results"
   ]
  },
  {
   "cell_type": "code",
   "execution_count": 60,
   "metadata": {},
   "outputs": [],
   "source": [
    "X_train, X_test, y_train, y_test = train_test_split(X, y, random_state = 0, test_size = 0.25)\n",
    "scaler = StandardScaler()\n",
    "scaler.fit(X_train)\n",
    "X_train_scaled = scaler.transform(X_train)\n",
    "X_test_scaled = scaler.transform(X_test)"
   ]
  },
  {
   "cell_type": "code",
   "execution_count": 61,
   "metadata": {},
   "outputs": [
    {
     "name": "stdout",
     "output_type": "stream",
     "text": [
      "0.02805408938033216\n"
     ]
    }
   ],
   "source": [
    "model = LinearRegression()\n",
    "model.fit(X_train_scaled, y_train)\n",
    "print(model.score(X_test_scaled, y_test))"
   ]
  },
  {
   "cell_type": "markdown",
   "metadata": {},
   "source": [
    "... okay, even worse than with all features. This didn't work at all."
   ]
  },
  {
   "cell_type": "code",
   "execution_count": null,
   "metadata": {},
   "outputs": [],
   "source": []
  },
  {
   "cell_type": "markdown",
   "metadata": {},
   "source": [
    "### Neural Network with Keras (Tensorflow)"
   ]
  },
  {
   "cell_type": "markdown",
   "metadata": {},
   "source": [
    "Polynomial Regression did a great job. But maybe there is a small improvement with a neural network."
   ]
  },
  {
   "cell_type": "code",
   "execution_count": 62,
   "metadata": {},
   "outputs": [],
   "source": [
    "import keras"
   ]
  },
  {
   "cell_type": "markdown",
   "metadata": {},
   "source": [
    "New feature set with all features"
   ]
  },
  {
   "cell_type": "code",
   "execution_count": 81,
   "metadata": {},
   "outputs": [],
   "source": [
    "X = stroke_ml.drop(['stroke', 'age_bin'], axis=1).values\n",
    "X_train, X_test, y_train, y_test = train_test_split(X, y, test_size = 0.25)\n",
    "scaler = StandardScaler()\n",
    "scaler.fit(X_train)\n",
    "X_train_scaled = scaler.transform(X_train)\n",
    "X_test_scaled = scaler.transform(X_test)"
   ]
  },
  {
   "cell_type": "code",
   "execution_count": 82,
   "metadata": {},
   "outputs": [
    {
     "data": {
      "text/plain": [
       "(29065, 24)"
      ]
     },
     "execution_count": 82,
     "metadata": {},
     "output_type": "execute_result"
    }
   ],
   "source": [
    "X.shape"
   ]
  },
  {
   "cell_type": "code",
   "execution_count": null,
   "metadata": {},
   "outputs": [],
   "source": []
  },
  {
   "cell_type": "markdown",
   "metadata": {},
   "source": [
    "Model definition"
   ]
  },
  {
   "cell_type": "code",
   "execution_count": 83,
   "metadata": {},
   "outputs": [
    {
     "name": "stdout",
     "output_type": "stream",
     "text": [
      "Model: \"sequential_3\"\n",
      "_________________________________________________________________\n",
      "Layer (type)                 Output Shape              Param #   \n",
      "=================================================================\n",
      "dense_9 (Dense)              (None, 24)                600       \n",
      "_________________________________________________________________\n",
      "dense_10 (Dense)             (None, 12)                300       \n",
      "_________________________________________________________________\n",
      "dense_11 (Dense)             (None, 1)                 13        \n",
      "=================================================================\n",
      "Total params: 913\n",
      "Trainable params: 913\n",
      "Non-trainable params: 0\n",
      "_________________________________________________________________\n"
     ]
    }
   ],
   "source": [
    "model = keras.models.Sequential()\n",
    "model.add(keras.layers.Dense(units = 24, input_dim = 24, activation = 'relu'))\n",
    "model.add(keras.layers.Dense(units = 12, activation = 'relu'))\n",
    "model.add(keras.layers.Dense(units = 1))\n",
    "\n",
    "model.summary()"
   ]
  },
  {
   "cell_type": "code",
   "execution_count": 84,
   "metadata": {},
   "outputs": [],
   "source": [
    "model.compile(loss = 'binary_crossentropy', optimizer = 'adam', metrics = ['accuracy'])"
   ]
  },
  {
   "cell_type": "code",
   "execution_count": 85,
   "metadata": {},
   "outputs": [],
   "source": [
    "early_stopping = keras.callbacks.EarlyStopping(monitor = 'loss', patience = 5)\n",
    "checkpoints = keras.callbacks.ModelCheckpoint(filepath = 'stroke_model.h5', monitor = 'loss', save_best_only = True)\n",
    "callbacks = [early_stopping, checkpoints]"
   ]
  },
  {
   "cell_type": "code",
   "execution_count": null,
   "metadata": {},
   "outputs": [],
   "source": []
  },
  {
   "cell_type": "markdown",
   "metadata": {},
   "source": [
    "Train model"
   ]
  },
  {
   "cell_type": "code",
   "execution_count": 86,
   "metadata": {},
   "outputs": [
    {
     "name": "stdout",
     "output_type": "stream",
     "text": [
      "Epoch 1/20\n",
      "2725/2725 [==============================] - 2s 622us/step - loss: 0.2848 - accuracy: 0.9811 - val_loss: 0.2993 - val_accuracy: 0.9806\n",
      "Epoch 2/20\n",
      "2725/2725 [==============================] - 2s 585us/step - loss: 0.2873 - accuracy: 0.9813 - val_loss: 0.2993 - val_accuracy: 0.9806\n",
      "Epoch 3/20\n",
      "2725/2725 [==============================] - 2s 585us/step - loss: 0.2880 - accuracy: 0.9813 - val_loss: 0.2993 - val_accuracy: 0.9806\n",
      "Epoch 4/20\n",
      "2725/2725 [==============================] - 2s 584us/step - loss: 0.2880 - accuracy: 0.9813 - val_loss: 0.2993 - val_accuracy: 0.9806\n",
      "Epoch 5/20\n",
      "2725/2725 [==============================] - 2s 585us/step - loss: 0.2880 - accuracy: 0.9813 - val_loss: 0.2993 - val_accuracy: 0.9806\n",
      "Epoch 6/20\n",
      "2725/2725 [==============================] - 2s 585us/step - loss: 0.2880 - accuracy: 0.9813 - val_loss: 0.2993 - val_accuracy: 0.9806\n"
     ]
    }
   ],
   "source": [
    "history = model.fit(X_train_scaled, y_train, epochs = 20, batch_size = 8, validation_data = (X_test_scaled, y_test), callbacks = callbacks)"
   ]
  },
  {
   "cell_type": "markdown",
   "metadata": {},
   "source": [
    "Validation"
   ]
  },
  {
   "cell_type": "code",
   "execution_count": 87,
   "metadata": {},
   "outputs": [
    {
     "data": {
      "text/plain": [
       "<matplotlib.legend.Legend at 0x138a68650>"
      ]
     },
     "execution_count": 87,
     "metadata": {},
     "output_type": "execute_result"
    },
    {
     "data": {
      "image/png": "[encoded data removed]",
      "text/plain": [
       "<Figure size 432x288 with 1 Axes>"
      ]
     },
     "metadata": {
      "needs_background": "light"
     },
     "output_type": "display_data"
    }
   ],
   "source": [
    "acc_train = history.history['accuracy']\n",
    "acc_test = history.history['val_accuracy']\n",
    "x_achse = list(range(len(acc_train)))\n",
    "plt.plot(x_achse, acc_train, label = 'train')\n",
    "plt.plot(x_achse, acc_test, label = 'test')\n",
    "plt.legend()"
   ]
  },
  {
   "cell_type": "markdown",
   "metadata": {},
   "source": [
    "Summary: The score is nearly identical to the other models above. As expected, setting up a neural network didn't improve the results. As neural networks are more time and resource consuming, it's not worth it."
   ]
  },
  {
   "cell_type": "markdown",
   "metadata": {},
   "source": [
    "## Resumee"
   ]
  },
  {
   "cell_type": "markdown",
   "metadata": {},
   "source": [
    "So it worked out: I was able to show that stroke factors actually increase the risk. I am not working as a health journalist anymore. But very glad that all the stuff I wrote in the past were actually true. Well, I wasn't expecting anything else. What I wrote in the past weren't my own thoughts, but the infos from doctors and other experts. And their saying were also based on data - of course. Data matters!"
   ]
  },
  {
   "cell_type": "code",
   "execution_count": null,
   "metadata": {},
   "outputs": [],
   "source": []
  }
 ],
 "metadata": {
  "kernelspec": {
   "display_name": "Python 3",
   "language": "python",
   "name": "python3"
  },
  "language_info": {
   "codemirror_mode": {
    "name": "ipython",
    "version": 3
   },
   "file_extension": ".py",
   "mimetype": "text/x-python",
   "name": "python",
   "nbconvert_exporter": "python",
   "pygments_lexer": "ipython3",
   "version": "3.7.6"
  }
 },
 "nbformat": 4,
 "nbformat_minor": 4
}
